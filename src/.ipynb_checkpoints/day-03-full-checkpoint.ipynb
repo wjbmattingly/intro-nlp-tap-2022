{
 "cells": [
  {
   "cell_type": "markdown",
   "id": "3e89c5b3",
   "metadata": {},
   "source": [
    "<img align=\"left\" src=\"https://ithaka-labs.s3.amazonaws.com/static-files/images/tdm/tdmdocs/tapi-logo-small.png\" />\n",
    "\n",
    "This notebook free for educational reuse under [Creative Commons CC BY License](https://creativecommons.org/licenses/by/4.0/).\n",
    "\n",
    "Created by [Firstname Lastname](https://) for the 2022 Text Analysis Pedagogy Institute, with support from the [National Endowment for the Humanities](https://neh.gov), [JSTOR Labs](https://labs.jstor.org/), and [University of Arizona Libraries](https://new.library.arizona.edu/).\n",
    "\n",
    "For questions/comments/improvements, email author@email.address.<br />\n",
    "____"
   ]
  },
  {
   "cell_type": "markdown",
   "id": "68f932d1",
   "metadata": {},
   "source": [
    "# `NLP with spaCy` `3`\n",
    "\n",
    "This is lesson `3` of 3 in the educational series on `Natural Language Processing (NLP)`. This notebook is intended `to teach the basics of NLP and the spaCy library.`. \n",
    "\n",
    "**Audience:** `Teachers` / `Learners` / `Researchers`\n",
    "\n",
    "**Use case:** `Tutorial`\n",
    "\n",
    "`Include the use case definition from [here](https://constellate.org/docs/documentation-categories)`\n",
    "\n",
    "**Difficulty:** `Beginner`\n",
    "\n",
    "`Beginner assumes users are relatively new to Python and Jupyter Notebooks. The user is helped step-by-step with lots of explanatory text.`\n",
    "\n",
    "`Intermediate assumes users are familiar with Python and have been programming for 6+ months. Code makes up a larger part of the notebook and basic concepts related to Python are not explained.`\n",
    "\n",
    "`Advanced assumes users are very familiar with Python and have been programming for years, but they may not be familiar with the process being explained.`\n",
    "\n",
    "**Completion time:** `90 minutes`\n",
    "\n",
    "**Knowledge Required:** \n",
    "```\n",
    "* Python basics (variables, flow control, functions, lists, dictionaries)\n",
    "```\n",
    "\n",
    "**Knowledge Recommended:**\n",
    "```\n",
    "* Basic file operations (open, close, read, write)\n",
    "```\n",
    "\n",
    "**Learning Objectives:**\n",
    "After this lesson, learners will be able to:\n",
    "```\n",
    "1. Understand how to solve an NLP problem, specifically information extraction\n",
    "2. Understand how to find data\n",
    "3. Understand how to structure data\n",
    "4. Understand how to develop a spaCy Pipeline\n",
    "```\n",
    "**Research Pipeline:**\n",
    "```\n",
    "N/A\n",
    "```\n",
    "___"
   ]
  },
  {
   "cell_type": "markdown",
   "id": "157c0555",
   "metadata": {},
   "source": [
    "# Required Python Libraries\n",
    "`List out any libraries used and what they are used for`\n",
    "* [spaCy](https://spacy.io/) for performing [Natural Language Processing (NLP)](https://docs.constellate.org/key-terms/#nlp).\n",
    "\n",
    "## Install Required Libraries"
   ]
  },
  {
   "cell_type": "code",
   "execution_count": 1,
   "id": "e8a220f5",
   "metadata": {},
   "outputs": [
    {
     "name": "stdout",
     "output_type": "stream",
     "text": [
      "Requirement already satisfied: spacy in c:\\users\\wma22\\anaconda3\\lib\\site-packages (3.3.0)\n",
      "Requirement already satisfied: spacy-loggers<2.0.0,>=1.0.0 in c:\\users\\wma22\\anaconda3\\lib\\site-packages (from spacy) (1.0.2)\n",
      "Requirement already satisfied: preshed<3.1.0,>=3.0.2 in c:\\users\\wma22\\anaconda3\\lib\\site-packages (from spacy) (3.0.6)\n",
      "Requirement already satisfied: tqdm<5.0.0,>=4.38.0 in c:\\users\\wma22\\anaconda3\\lib\\site-packages (from spacy) (4.64.0)\n",
      "Requirement already satisfied: typer<0.5.0,>=0.3.0 in c:\\users\\wma22\\anaconda3\\lib\\site-packages (from spacy) (0.3.2)\n",
      "Requirement already satisfied: requests<3.0.0,>=2.13.0 in c:\\users\\wma22\\anaconda3\\lib\\site-packages (from spacy) (2.27.1)\n",
      "Requirement already satisfied: catalogue<2.1.0,>=2.0.6 in c:\\users\\wma22\\anaconda3\\lib\\site-packages (from spacy) (2.0.6)\n",
      "Requirement already satisfied: srsly<3.0.0,>=2.4.3 in c:\\users\\wma22\\anaconda3\\lib\\site-packages (from spacy) (2.4.3)\n",
      "Requirement already satisfied: wasabi<1.1.0,>=0.9.1 in c:\\users\\wma22\\anaconda3\\lib\\site-packages (from spacy) (0.9.1)\n",
      "Requirement already satisfied: murmurhash<1.1.0,>=0.28.0 in c:\\users\\wma22\\anaconda3\\lib\\site-packages (from spacy) (1.0.6)\n",
      "Requirement already satisfied: pydantic!=1.8,!=1.8.1,<1.9.0,>=1.7.4 in c:\\users\\wma22\\anaconda3\\lib\\site-packages (from spacy) (1.8.2)\n",
      "Requirement already satisfied: blis<0.8.0,>=0.4.0 in c:\\users\\wma22\\anaconda3\\lib\\site-packages (from spacy) (0.7.7)\n",
      "Requirement already satisfied: jinja2 in c:\\users\\wma22\\anaconda3\\lib\\site-packages (from spacy) (3.0.3)\n",
      "Requirement already satisfied: setuptools in c:\\users\\wma22\\anaconda3\\lib\\site-packages (from spacy) (62.1.0)\n",
      "Requirement already satisfied: langcodes<4.0.0,>=3.2.0 in c:\\users\\wma22\\anaconda3\\lib\\site-packages (from spacy) (3.3.0)\n",
      "Requirement already satisfied: numpy>=1.15.0 in c:\\users\\wma22\\anaconda3\\lib\\site-packages (from spacy) (1.21.5)\n",
      "Requirement already satisfied: thinc<8.1.0,>=8.0.14 in c:\\users\\wma22\\anaconda3\\lib\\site-packages (from spacy) (8.0.17)\n",
      "Requirement already satisfied: pathy>=0.3.5 in c:\\users\\wma22\\anaconda3\\lib\\site-packages (from spacy) (0.6.1)\n",
      "Requirement already satisfied: spacy-legacy<3.1.0,>=3.0.9 in c:\\users\\wma22\\anaconda3\\lib\\site-packages (from spacy) (3.0.9)\n",
      "Requirement already satisfied: cymem<2.1.0,>=2.0.2 in c:\\users\\wma22\\anaconda3\\lib\\site-packages (from spacy) (2.0.6)\n",
      "Requirement already satisfied: packaging>=20.0 in c:\\users\\wma22\\anaconda3\\lib\\site-packages (from spacy) (21.3)\n",
      "Requirement already satisfied: pyparsing!=3.0.5,>=2.0.2 in c:\\users\\wma22\\anaconda3\\lib\\site-packages (from packaging>=20.0->spacy) (3.0.8)\n",
      "Requirement already satisfied: smart-open<6.0.0,>=5.0.0 in c:\\users\\wma22\\anaconda3\\lib\\site-packages (from pathy>=0.3.5->spacy) (5.2.1)\n",
      "Requirement already satisfied: typing-extensions>=3.7.4.3 in c:\\users\\wma22\\anaconda3\\lib\\site-packages (from pydantic!=1.8,!=1.8.1,<1.9.0,>=1.7.4->spacy) (4.2.0)\n",
      "Requirement already satisfied: certifi>=2017.4.17 in c:\\users\\wma22\\anaconda3\\lib\\site-packages (from requests<3.0.0,>=2.13.0->spacy) (2022.5.18.1)\n",
      "Requirement already satisfied: charset-normalizer~=2.0.0 in c:\\users\\wma22\\anaconda3\\lib\\site-packages (from requests<3.0.0,>=2.13.0->spacy) (2.0.12)\n",
      "Requirement already satisfied: urllib3<1.27,>=1.21.1 in c:\\users\\wma22\\anaconda3\\lib\\site-packages (from requests<3.0.0,>=2.13.0->spacy) (1.26.9)\n",
      "Requirement already satisfied: idna<4,>=2.5 in c:\\users\\wma22\\anaconda3\\lib\\site-packages (from requests<3.0.0,>=2.13.0->spacy) (3.3)\n",
      "Requirement already satisfied: colorama in c:\\users\\wma22\\anaconda3\\lib\\site-packages (from tqdm<5.0.0,>=4.38.0->spacy) (0.4.4)\n",
      "Requirement already satisfied: click<7.2.0,>=7.1.1 in c:\\users\\wma22\\anaconda3\\lib\\site-packages (from typer<0.5.0,>=0.3.0->spacy) (7.1.2)\n",
      "Requirement already satisfied: MarkupSafe>=2.0 in c:\\users\\wma22\\anaconda3\\lib\\site-packages (from jinja2->spacy) (2.1.1)\n"
     ]
    },
    {
     "name": "stderr",
     "output_type": "stream",
     "text": [
      "WARNING: Ignoring invalid distribution -illow (c:\\users\\wma22\\anaconda3\\lib\\site-packages)\n",
      "WARNING: Ignoring invalid distribution -illow (c:\\users\\wma22\\anaconda3\\lib\\site-packages)\n",
      "WARNING: Ignoring invalid distribution -illow (c:\\users\\wma22\\anaconda3\\lib\\site-packages)\n",
      "WARNING: Ignoring invalid distribution -illow (c:\\users\\wma22\\anaconda3\\lib\\site-packages)\n",
      "WARNING: Ignoring invalid distribution -illow (c:\\users\\wma22\\anaconda3\\lib\\site-packages)\n",
      "WARNING: Ignoring invalid distribution -illow (c:\\users\\wma22\\anaconda3\\lib\\site-packages)\n"
     ]
    }
   ],
   "source": [
    "### Install Libraries ###\n",
    "\n",
    "# Using !pip installs\n",
    "!pip install spacy\n",
    "!python -m spacy download en_core_web_sm\n",
    "# Using %%bash magic with apt-get and yes prompt"
   ]
  },
  {
   "cell_type": "code",
   "execution_count": 1,
   "id": "5480e2a8",
   "metadata": {},
   "outputs": [],
   "source": [
    "### Import Libraries ###\n",
    "import spacy"
   ]
  },
  {
   "cell_type": "markdown",
   "id": "f53edaa2",
   "metadata": {},
   "source": [
    "# Introduction\n",
    "\n",
    "```\n",
    "Introduce the lesson topic. Answer questions such as:\n",
    "* Why is it useful? \n",
    "* Why should we learn it? \n",
    "* Who might use it? \n",
    "* Where has it been used by scholars/industry?\n",
    "* What do we need to do it?\n",
    "* What subjects are included in the notebooks?\n",
    "* What is not in this notebook? Where should we look for it?\n",
    "```"
   ]
  },
  {
   "cell_type": "markdown",
   "id": "b4b12a24-dd04-429c-99e7-194ac98fe10c",
   "metadata": {},
   "source": [
    "# Part One: The Problem"
   ]
  },
  {
   "cell_type": "markdown",
   "id": "2ece6609-a056-4bae-99d6-1064e59c30bf",
   "metadata": {},
   "source": [
    "Imagine you are a librarian or archivist at an R1 Institution. A researcher at the university has asked if it would be possible to grab all the letters written by Abigail Adams in the Founders Online database.\n",
    "\n",
    "The researcher would also like for you to keep the metadata intact so that the researcher can understand to whom Abigail Adams wrote and when. The researcher wants to also know whom Abigail Adams references within these letters. The purpose of this project is to understand the epistolary network of Abigail Adams. All of this will be used to understand more broadly Abigail Adams' social network.\n",
    "\n",
    "Finally, the researcher has some gender-based questions about the data and being able to identify and extract specific gendered words (which they have provided in data/gen_ref_ files).\n",
    "\n",
    "Your job is to create a heuristic, or rules-based, pipeline with spaCy to solve this problem.\n",
    "\n",
    "This is a real-world problem that requires several different Python skills to solve programmatically. Since this tutorial is designed around NLP, we will be focusing on the NLP portions of this workflow. Nevertheless, I will detail in Part Two, how to gather the requisite data. I will not, however, explain the code in depth as it involves web-scrapping beyond the scope of this tutorial."
   ]
  },
  {
   "cell_type": "markdown",
   "id": "6fd09930-c414-4ec8-aa6c-052f57b29dac",
   "metadata": {},
   "source": [
    "# Part Two: Gathering the Data"
   ]
  },
  {
   "cell_type": "code",
   "execution_count": 13,
   "id": "742daa44-9a9b-45a9-81a0-0df60e4d0854",
   "metadata": {},
   "outputs": [],
   "source": [
    "import pandas as pd\n",
    "import ast\n",
    "import requests\n",
    "from bs4 import BeautifulSoup\n",
    "import json\n",
    "from spacy import displacy"
   ]
  },
  {
   "cell_type": "markdown",
   "id": "27c882cd-1a3d-4e58-872d-e2acbba646b8",
   "metadata": {},
   "source": [
    "## Analyze Founders Online Data"
   ]
  },
  {
   "cell_type": "code",
   "execution_count": 3,
   "id": "526b502f-24f0-4efb-8339-ea72258e3fa5",
   "metadata": {},
   "outputs": [],
   "source": [
    "df = pd.read_json(\"../data/founders-online-metadata.json\")"
   ]
  },
  {
   "cell_type": "code",
   "execution_count": 4,
   "id": "93922a42-365c-4883-bc82-f2cf97557e22",
   "metadata": {},
   "outputs": [
    {
     "data": {
      "text/html": [
       "<div>\n",
       "<style scoped>\n",
       "    .dataframe tbody tr th:only-of-type {\n",
       "        vertical-align: middle;\n",
       "    }\n",
       "\n",
       "    .dataframe tbody tr th {\n",
       "        vertical-align: top;\n",
       "    }\n",
       "\n",
       "    .dataframe thead th {\n",
       "        text-align: right;\n",
       "    }\n",
       "</style>\n",
       "<table border=\"1\" class=\"dataframe\">\n",
       "  <thead>\n",
       "    <tr style=\"text-align: right;\">\n",
       "      <th></th>\n",
       "      <th>title</th>\n",
       "      <th>permalink</th>\n",
       "      <th>project</th>\n",
       "      <th>authors</th>\n",
       "      <th>recipients</th>\n",
       "      <th>date-from</th>\n",
       "      <th>date-to</th>\n",
       "    </tr>\n",
       "  </thead>\n",
       "  <tbody>\n",
       "    <tr>\n",
       "      <th>0</th>\n",
       "      <td>November 18th. 1755.</td>\n",
       "      <td>https://founders.archives.gov/documents/Adams/...</td>\n",
       "      <td>Adams Papers</td>\n",
       "      <td>[Adams, John]</td>\n",
       "      <td>[]</td>\n",
       "      <td>1755-11-18</td>\n",
       "      <td>1755-11-18</td>\n",
       "    </tr>\n",
       "    <tr>\n",
       "      <th>1</th>\n",
       "      <td>[November 1755]</td>\n",
       "      <td>https://founders.archives.gov/documents/Adams/...</td>\n",
       "      <td>Adams Papers</td>\n",
       "      <td>[Adams, John]</td>\n",
       "      <td>[]</td>\n",
       "      <td>1755-11-18</td>\n",
       "      <td>1755-11-18</td>\n",
       "    </tr>\n",
       "    <tr>\n",
       "      <th>2</th>\n",
       "      <td>January the 14th. 1756.</td>\n",
       "      <td>https://founders.archives.gov/documents/Adams/...</td>\n",
       "      <td>Adams Papers</td>\n",
       "      <td>[Adams, John]</td>\n",
       "      <td>[]</td>\n",
       "      <td>1756-01-14</td>\n",
       "      <td>1756-01-14</td>\n",
       "    </tr>\n",
       "    <tr>\n",
       "      <th>3</th>\n",
       "      <td>15.</td>\n",
       "      <td>https://founders.archives.gov/documents/Adams/...</td>\n",
       "      <td>Adams Papers</td>\n",
       "      <td>[Adams, John]</td>\n",
       "      <td>[]</td>\n",
       "      <td>1756-01-15</td>\n",
       "      <td>1756-01-15</td>\n",
       "    </tr>\n",
       "    <tr>\n",
       "      <th>4</th>\n",
       "      <td>16 Fryday.</td>\n",
       "      <td>https://founders.archives.gov/documents/Adams/...</td>\n",
       "      <td>Adams Papers</td>\n",
       "      <td>[Adams, John]</td>\n",
       "      <td>[]</td>\n",
       "      <td>1756-01-16</td>\n",
       "      <td>1756-01-16</td>\n",
       "    </tr>\n",
       "    <tr>\n",
       "      <th>...</th>\n",
       "      <td>...</td>\n",
       "      <td>...</td>\n",
       "      <td>...</td>\n",
       "      <td>...</td>\n",
       "      <td>...</td>\n",
       "      <td>...</td>\n",
       "      <td>...</td>\n",
       "    </tr>\n",
       "    <tr>\n",
       "      <th>185311</th>\n",
       "      <td>To Thomas Jefferson from John Barnes, 3 March ...</td>\n",
       "      <td>https://founders.archives.gov/documents/Jeffer...</td>\n",
       "      <td>Jefferson Papers</td>\n",
       "      <td>[Barnes, John]</td>\n",
       "      <td>[Jefferson, Thomas]</td>\n",
       "      <td>1809-03-03</td>\n",
       "      <td>1809-03-03</td>\n",
       "    </tr>\n",
       "    <tr>\n",
       "      <th>185312</th>\n",
       "      <td>To Thomas Jefferson from John Benson, 3 March ...</td>\n",
       "      <td>https://founders.archives.gov/documents/Jeffer...</td>\n",
       "      <td>Jefferson Papers</td>\n",
       "      <td>[Benson, John]</td>\n",
       "      <td>[Jefferson, Thomas]</td>\n",
       "      <td>1809-03-03</td>\n",
       "      <td>1809-03-03</td>\n",
       "    </tr>\n",
       "    <tr>\n",
       "      <th>185313</th>\n",
       "      <td>To Thomas Jefferson from William Matthews, 3 M...</td>\n",
       "      <td>https://founders.archives.gov/documents/Jeffer...</td>\n",
       "      <td>Jefferson Papers</td>\n",
       "      <td>[Matthews, William]</td>\n",
       "      <td>[Jefferson, Thomas]</td>\n",
       "      <td>1809-03-03</td>\n",
       "      <td>1809-03-03</td>\n",
       "    </tr>\n",
       "    <tr>\n",
       "      <th>185314</th>\n",
       "      <td>To Thomas Jefferson from Thomas Moore, 3 March...</td>\n",
       "      <td>https://founders.archives.gov/documents/Jeffer...</td>\n",
       "      <td>Jefferson Papers</td>\n",
       "      <td>[Moore, Thomas]</td>\n",
       "      <td>[Jefferson, Thomas]</td>\n",
       "      <td>1809-03-03</td>\n",
       "      <td>1809-03-03</td>\n",
       "    </tr>\n",
       "    <tr>\n",
       "      <th>185315</th>\n",
       "      <td>To Thomas Jefferson from Robert Wright, 3 Marc...</td>\n",
       "      <td>https://founders.archives.gov/documents/Jeffer...</td>\n",
       "      <td>Jefferson Papers</td>\n",
       "      <td>[Wright, Robert]</td>\n",
       "      <td>[Jefferson, Thomas]</td>\n",
       "      <td>1809-03-03</td>\n",
       "      <td>1809-03-03</td>\n",
       "    </tr>\n",
       "  </tbody>\n",
       "</table>\n",
       "<p>185316 rows × 7 columns</p>\n",
       "</div>"
      ],
      "text/plain": [
       "                                                    title  \\\n",
       "0                                    November 18th. 1755.   \n",
       "1                                         [November 1755]   \n",
       "2                                 January the 14th. 1756.   \n",
       "3                                                     15.   \n",
       "4                                              16 Fryday.   \n",
       "...                                                   ...   \n",
       "185311  To Thomas Jefferson from John Barnes, 3 March ...   \n",
       "185312  To Thomas Jefferson from John Benson, 3 March ...   \n",
       "185313  To Thomas Jefferson from William Matthews, 3 M...   \n",
       "185314  To Thomas Jefferson from Thomas Moore, 3 March...   \n",
       "185315  To Thomas Jefferson from Robert Wright, 3 Marc...   \n",
       "\n",
       "                                                permalink           project  \\\n",
       "0       https://founders.archives.gov/documents/Adams/...      Adams Papers   \n",
       "1       https://founders.archives.gov/documents/Adams/...      Adams Papers   \n",
       "2       https://founders.archives.gov/documents/Adams/...      Adams Papers   \n",
       "3       https://founders.archives.gov/documents/Adams/...      Adams Papers   \n",
       "4       https://founders.archives.gov/documents/Adams/...      Adams Papers   \n",
       "...                                                   ...               ...   \n",
       "185311  https://founders.archives.gov/documents/Jeffer...  Jefferson Papers   \n",
       "185312  https://founders.archives.gov/documents/Jeffer...  Jefferson Papers   \n",
       "185313  https://founders.archives.gov/documents/Jeffer...  Jefferson Papers   \n",
       "185314  https://founders.archives.gov/documents/Jeffer...  Jefferson Papers   \n",
       "185315  https://founders.archives.gov/documents/Jeffer...  Jefferson Papers   \n",
       "\n",
       "                    authors           recipients   date-from     date-to  \n",
       "0             [Adams, John]                   []  1755-11-18  1755-11-18  \n",
       "1             [Adams, John]                   []  1755-11-18  1755-11-18  \n",
       "2             [Adams, John]                   []  1756-01-14  1756-01-14  \n",
       "3             [Adams, John]                   []  1756-01-15  1756-01-15  \n",
       "4             [Adams, John]                   []  1756-01-16  1756-01-16  \n",
       "...                     ...                  ...         ...         ...  \n",
       "185311       [Barnes, John]  [Jefferson, Thomas]  1809-03-03  1809-03-03  \n",
       "185312       [Benson, John]  [Jefferson, Thomas]  1809-03-03  1809-03-03  \n",
       "185313  [Matthews, William]  [Jefferson, Thomas]  1809-03-03  1809-03-03  \n",
       "185314      [Moore, Thomas]  [Jefferson, Thomas]  1809-03-03  1809-03-03  \n",
       "185315     [Wright, Robert]  [Jefferson, Thomas]  1809-03-03  1809-03-03  \n",
       "\n",
       "[185316 rows x 7 columns]"
      ]
     },
     "execution_count": 4,
     "metadata": {},
     "output_type": "execute_result"
    }
   ],
   "source": [
    "df"
   ]
  },
  {
   "cell_type": "code",
   "execution_count": 5,
   "id": "c3606c3a-1bf7-4747-8d3a-51ff5d5baa2a",
   "metadata": {},
   "outputs": [
    {
     "name": "stdout",
     "output_type": "stream",
     "text": [
      "185316\n"
     ]
    }
   ],
   "source": [
    "# So we do not have to use Pandas syntax in this tutorial\n",
    "links = df.permalink.tolist()\n",
    "authors =  df.authors.tolist()\n",
    "recipients = df.recipients.tolist()\n",
    "date_from = df[\"date-from\"].tolist()\n",
    "date_to = df[\"date-to\"].tolist()\n",
    "print (len(authors))"
   ]
  },
  {
   "cell_type": "code",
   "execution_count": 7,
   "id": "a51552e4-84c1-4775-af2b-9fb881f79447",
   "metadata": {},
   "outputs": [
    {
     "name": "stdout",
     "output_type": "stream",
     "text": [
      "1238\n"
     ]
    }
   ],
   "source": [
    "final_data = []\n",
    "for l, a, r, dfrom, dto in zip(links, authors, recipients, date_from, date_to):\n",
    "    if \"Adams, Abigail\" in a:\n",
    "        final_data.append((l, a, r, dfrom, dto))\n",
    "print (len(final_data))"
   ]
  },
  {
   "cell_type": "code",
   "execution_count": 6,
   "id": "c65c880e-a780-42a1-8eb7-5d2364ceed74",
   "metadata": {},
   "outputs": [],
   "source": [
    "#Only execute this cell if you want to make 1238 calls to the Founders Online server.\n",
    "def scrape_founders():\n",
    "    texts = []\n",
    "    for link, author, recipient, date_from, date_to in final_data:\n",
    "        #must have a recipient, i.e. a letter\n",
    "        if recipient != []:\n",
    "\n",
    "            #calls the server\n",
    "            s = requests.get(link)\n",
    "\n",
    "            #convert the call request into a soup object to parse HTML\n",
    "\n",
    "            soup = BeautifulSoup(s.content)\n",
    "\n",
    "            #grabs the text\n",
    "            text = soup.find(\"div\", {\"class\": \"innerdiv docbody\"})\n",
    "\n",
    "            #removes the footnotes from the text\n",
    "            for i in text.find_all(\"a\"):\n",
    "                if 'class' in i.attrs:\n",
    "                    if \"ptr\" in i.attrs['class']:\n",
    "                        i.decompose()\n",
    "            #get some clean text from the p tags            \n",
    "            text = [p.text.strip() for p in text.find_all(\"p\")]\n",
    "\n",
    "            #bring the text together\n",
    "            text = \"\\n\".join(text)\n",
    "            data = {\"link\": link, \"author\": author, \"recipient\": recipient, \"date_from\": date_from, \"date_to\": date_to, \"text\": text}\n",
    "            texts.append(data)\n",
    "    print (len(texts))\n",
    "    with open (\"../data/adams_abigail_letters.json\", \"w\") as f:\n",
    "        json.dump(texts, f, indent=4)\n",
    "    return texts"
   ]
  },
  {
   "cell_type": "markdown",
   "id": "1a92444f-b9c2-4552-97c1-121899bf7fcd",
   "metadata": {},
   "source": [
    "# Part Three: NER Pipeline"
   ]
  },
  {
   "cell_type": "markdown",
   "id": "ecad441f-0462-42d5-ba82-9748d122dfdc",
   "metadata": {},
   "source": [
    "## Load in our Data"
   ]
  },
  {
   "cell_type": "code",
   "execution_count": 8,
   "id": "c0c3ac41-9652-459b-be01-d757835829de",
   "metadata": {},
   "outputs": [],
   "source": [
    "with open (\"../data/adams_abigail_letters.json\", \"r\") as f:\n",
    "    texts = json.load(f)"
   ]
  },
  {
   "cell_type": "code",
   "execution_count": 9,
   "id": "a0136ff4-cf76-4618-874b-d1c58387112e",
   "metadata": {},
   "outputs": [
    {
     "data": {
      "text/plain": [
       "{'link': 'https://founders.archives.gov/documents/Adams/04-01-02-0005',\n",
       " 'author': ['Adams, Abigail'],\n",
       " 'recipient': ['Smith, Isaac Jr.'],\n",
       " 'date_from': '1763-03-16',\n",
       " 'date_to': '1763-03-16',\n",
       " 'text': 'Weymouth March 16 1763\\nDear Cousin\\nTis no small pleasure to me, to hear of the great proficioncy you have made in the French tongue, A Tongue Sweet, and harmonious, a Tongue, useful to Merchants, to Statesmen; to Divines, and especially to Lawyers and Travellers; who by the help of it, may traverse the whole Globe; for in this respect, the French language is pretty much now, what I have heard the Latin formerly was, a universal tongue.\\nBy the favor of my Father I have had the pleasure of seeing your Copy of Mrs. Wheelwrights Letter, to her Nephew, and having some small acquaintance with the French tongue, have attempted a translation; of it, which I here send, for your perusal and correction.\\nI am sensible that I am but ill qualified for such an undertaking, it being a maxim with me that no one can translate an author well, who cannot write like the original, and I find by Experience that tis more difficult to translate well, than to write well.\\nYou will see that I have endeavourd to translate the letter as literally as I could, without treading on the heels of my Lady abbess, Esteeming literal translations to be the best as well as truest. Should be glad if you would favor me with your translation, for you, being taught the French language by one of the greatest masters, I make no doubt but that your performance shines in all the beauty and perfection of Language.\\nThat you may daily grow in virtue and useful Learning, and be a bright Orniment in Church or State is the sincere wish of Dear Cousin Your affectionat Friend,\\nNabby Smith\\nN B. How the Lady abbess came to subscribe herself Serviteur, which you know is of the masculine Gender I cannot devise unless like all other Ladies in a convent, she chose to make use of the Masculine Gender, rather than the Feminine.\\nExcuse the wri[ting] for tis late at night.'}"
      ]
     },
     "execution_count": 9,
     "metadata": {},
     "output_type": "execute_result"
    }
   ],
   "source": [
    "texts[0]"
   ]
  },
  {
   "cell_type": "markdown",
   "id": "ce7e6de9-35bb-48c9-9fed-1a423fd30954",
   "metadata": {},
   "source": [
    "First, we want to test out an existing model to see how it is performing"
   ]
  },
  {
   "cell_type": "markdown",
   "id": "fc744823-8578-49e4-9f51-eec2191c208d",
   "metadata": {},
   "source": [
    "## Using the Researcher's Lists"
   ]
  },
  {
   "cell_type": "code",
   "execution_count": 316,
   "id": "c69cbfcd-8eea-49de-84be-7e499d0c9602",
   "metadata": {},
   "outputs": [],
   "source": [
    "def make_patterns(file, label, lower_case=False):\n",
    "    temp_patterns = []\n",
    "    with open (file, \"r\", encoding=\"utf-8\") as f:\n",
    "        data = f.read().splitlines()\n",
    "    for item in data:\n",
    "        if lower_case == False:\n",
    "            temp_patterns.append({\"pattern\": item.strip(), \"label\": label})\n",
    "        else:\n",
    "            temp_patterns.append({\"pattern\": [{\"lemma\": item.lower()}], \"label\": label})\n",
    "    return temp_patterns"
   ]
  },
  {
   "cell_type": "code",
   "execution_count": 317,
   "id": "2fb473db-fafc-4ea0-b9ff-cdebdbbbfaa2",
   "metadata": {},
   "outputs": [
    {
     "name": "stdout",
     "output_type": "stream",
     "text": [
      "20\n",
      "53\n",
      "23\n"
     ]
    }
   ],
   "source": [
    "neuter_patterns = make_patterns(\"../data/gen_ref_neuter.txt\", \"REF_NEUTER\", lower_case=True)\n",
    "print (len(neuter_patterns))\n",
    "male_patterns = make_patterns(\"../data/gen_ref_male.txt\", \"REF_MALE\", lower_case=True)\n",
    "print (len(male_patterns))\n",
    "female_patterns = make_patterns(\"../data/gen_ref_female.txt\", \"REF_FEMALE\", lower_case=True)\n",
    "print (len(female_patterns))"
   ]
  },
  {
   "cell_type": "code",
   "execution_count": 318,
   "id": "8bfbd3eb-36f7-4177-a709-3ef48114f321",
   "metadata": {},
   "outputs": [
    {
     "data": {
      "text/plain": [
       "[{'pattern': [{'lemma': 'people'}], 'label': 'REF_NEUTER'},\n",
       " {'pattern': [{'lemma': 'person'}], 'label': 'REF_NEUTER'},\n",
       " {'pattern': [{'lemma': 'patriots'}], 'label': 'REF_NEUTER'},\n",
       " {'pattern': [{'lemma': 'enemies'}], 'label': 'REF_NEUTER'},\n",
       " {'pattern': [{'lemma': 'servant'}], 'label': 'REF_NEUTER'},\n",
       " {'pattern': [{'lemma': 'friend'}], 'label': 'REF_NEUTER'},\n",
       " {'pattern': [{'lemma': 'sex'}], 'label': 'REF_NEUTER'},\n",
       " {'pattern': [{'lemma': 'folk'}], 'label': 'REF_NEUTER'},\n",
       " {'pattern': [{'lemma': 'cousin'}], 'label': 'REF_NEUTER'},\n",
       " {'pattern': [{'lemma': 'family'}], 'label': 'REF_NEUTER'}]"
      ]
     },
     "execution_count": 318,
     "metadata": {},
     "output_type": "execute_result"
    }
   ],
   "source": [
    "neuter_patterns[:10]"
   ]
  },
  {
   "cell_type": "markdown",
   "id": "63b0b5f2-4cdf-48cf-b664-1b300dfe0eac",
   "metadata": {},
   "source": [
    "## Finding Proper Nouns that are People"
   ]
  },
  {
   "cell_type": "code",
   "execution_count": 11,
   "id": "6fcade67-7a48-4b78-8470-3f3fecae52bc",
   "metadata": {},
   "outputs": [],
   "source": [
    "potential_people = []\n",
    "nlp = spacy.load(\"en_core_web_sm\")\n",
    "doc = nlp(texts[0]['text'])"
   ]
  },
  {
   "cell_type": "code",
   "execution_count": 14,
   "id": "cd857a51-d95a-4bee-8caf-68c6e36db4d2",
   "metadata": {},
   "outputs": [
    {
     "data": {
      "text/html": [
       "<span class=\"tex2jax_ignore\"><div class=\"entities\" style=\"line-height: 2.5; direction: ltr\">Weymouth \n",
       "<mark class=\"entity\" style=\"background: #bfe1d9; padding: 0.45em 0.6em; margin: 0 0.25em; line-height: 1; border-radius: 0.35em;\">\n",
       "    March 16 1763\n",
       "    <span style=\"font-size: 0.8em; font-weight: bold; line-height: 1; border-radius: 0.35em; vertical-align: middle; margin-left: 0.5rem\">DATE</span>\n",
       "</mark>\n",
       "</br>Dear Cousin</br>Tis no small pleasure to me, to hear of the great proficioncy you have made in the \n",
       "<mark class=\"entity\" style=\"background: #c887fb; padding: 0.45em 0.6em; margin: 0 0.25em; line-height: 1; border-radius: 0.35em;\">\n",
       "    French\n",
       "    <span style=\"font-size: 0.8em; font-weight: bold; line-height: 1; border-radius: 0.35em; vertical-align: middle; margin-left: 0.5rem\">NORP</span>\n",
       "</mark>\n",
       " tongue, A Tongue Sweet, and harmonious, a \n",
       "<mark class=\"entity\" style=\"background: #7aecec; padding: 0.45em 0.6em; margin: 0 0.25em; line-height: 1; border-radius: 0.35em;\">\n",
       "    Tongue\n",
       "    <span style=\"font-size: 0.8em; font-weight: bold; line-height: 1; border-radius: 0.35em; vertical-align: middle; margin-left: 0.5rem\">ORG</span>\n",
       "</mark>\n",
       ", useful to Merchants, to Statesmen; to \n",
       "<mark class=\"entity\" style=\"background: #7aecec; padding: 0.45em 0.6em; margin: 0 0.25em; line-height: 1; border-radius: 0.35em;\">\n",
       "    Divines\n",
       "    <span style=\"font-size: 0.8em; font-weight: bold; line-height: 1; border-radius: 0.35em; vertical-align: middle; margin-left: 0.5rem\">ORG</span>\n",
       "</mark>\n",
       ", and especially to Lawyers and Travellers; who by the help of it, may traverse the whole \n",
       "<mark class=\"entity\" style=\"background: #7aecec; padding: 0.45em 0.6em; margin: 0 0.25em; line-height: 1; border-radius: 0.35em;\">\n",
       "    Globe\n",
       "    <span style=\"font-size: 0.8em; font-weight: bold; line-height: 1; border-radius: 0.35em; vertical-align: middle; margin-left: 0.5rem\">ORG</span>\n",
       "</mark>\n",
       "; for in this respect, the \n",
       "<mark class=\"entity\" style=\"background: #ff8197; padding: 0.45em 0.6em; margin: 0 0.25em; line-height: 1; border-radius: 0.35em;\">\n",
       "    French\n",
       "    <span style=\"font-size: 0.8em; font-weight: bold; line-height: 1; border-radius: 0.35em; vertical-align: middle; margin-left: 0.5rem\">LANGUAGE</span>\n",
       "</mark>\n",
       " language is pretty much now, what I have heard the \n",
       "<mark class=\"entity\" style=\"background: #c887fb; padding: 0.45em 0.6em; margin: 0 0.25em; line-height: 1; border-radius: 0.35em;\">\n",
       "    Latin\n",
       "    <span style=\"font-size: 0.8em; font-weight: bold; line-height: 1; border-radius: 0.35em; vertical-align: middle; margin-left: 0.5rem\">NORP</span>\n",
       "</mark>\n",
       " formerly was, a universal tongue.</br>By the favor of my Father I have had the pleasure of seeing your Copy of Mrs. \n",
       "<mark class=\"entity\" style=\"background: #aa9cfc; padding: 0.45em 0.6em; margin: 0 0.25em; line-height: 1; border-radius: 0.35em;\">\n",
       "    Wheelwrights Letter\n",
       "    <span style=\"font-size: 0.8em; font-weight: bold; line-height: 1; border-radius: 0.35em; vertical-align: middle; margin-left: 0.5rem\">PERSON</span>\n",
       "</mark>\n",
       ", to her \n",
       "<mark class=\"entity\" style=\"background: #7aecec; padding: 0.45em 0.6em; margin: 0 0.25em; line-height: 1; border-radius: 0.35em;\">\n",
       "    Nephew\n",
       "    <span style=\"font-size: 0.8em; font-weight: bold; line-height: 1; border-radius: 0.35em; vertical-align: middle; margin-left: 0.5rem\">ORG</span>\n",
       "</mark>\n",
       ", and having some small acquaintance with the \n",
       "<mark class=\"entity\" style=\"background: #c887fb; padding: 0.45em 0.6em; margin: 0 0.25em; line-height: 1; border-radius: 0.35em;\">\n",
       "    French\n",
       "    <span style=\"font-size: 0.8em; font-weight: bold; line-height: 1; border-radius: 0.35em; vertical-align: middle; margin-left: 0.5rem\">NORP</span>\n",
       "</mark>\n",
       " tongue, have attempted a translation; of it, which I here send, for your perusal and correction.</br>I am sensible that I am but ill qualified for such an undertaking, it being a maxim with me that no one can translate an author well, who cannot write like the original, and I find by Experience that \n",
       "<mark class=\"entity\" style=\"background: #e4e7d2; padding: 0.45em 0.6em; margin: 0 0.25em; line-height: 1; border-radius: 0.35em;\">\n",
       "    tis\n",
       "    <span style=\"font-size: 0.8em; font-weight: bold; line-height: 1; border-radius: 0.35em; vertical-align: middle; margin-left: 0.5rem\">CARDINAL</span>\n",
       "</mark>\n",
       " more difficult to translate well, than to write well.</br>You will see that I have endeavourd to translate the letter as literally as I could, without treading on the heels of my Lady abbess, Esteeming literal translations to be the best as well as truest. Should be glad if you would favor me with your translation, for you, being taught the \n",
       "<mark class=\"entity\" style=\"background: #ff8197; padding: 0.45em 0.6em; margin: 0 0.25em; line-height: 1; border-radius: 0.35em;\">\n",
       "    French\n",
       "    <span style=\"font-size: 0.8em; font-weight: bold; line-height: 1; border-radius: 0.35em; vertical-align: middle; margin-left: 0.5rem\">LANGUAGE</span>\n",
       "</mark>\n",
       " language by \n",
       "<mark class=\"entity\" style=\"background: #e4e7d2; padding: 0.45em 0.6em; margin: 0 0.25em; line-height: 1; border-radius: 0.35em;\">\n",
       "    one\n",
       "    <span style=\"font-size: 0.8em; font-weight: bold; line-height: 1; border-radius: 0.35em; vertical-align: middle; margin-left: 0.5rem\">CARDINAL</span>\n",
       "</mark>\n",
       " of the greatest masters, I make no doubt but that your performance shines in all the beauty and perfection of \n",
       "<mark class=\"entity\" style=\"background: #ff9561; padding: 0.45em 0.6em; margin: 0 0.25em; line-height: 1; border-radius: 0.35em;\">\n",
       "    Language\n",
       "    <span style=\"font-size: 0.8em; font-weight: bold; line-height: 1; border-radius: 0.35em; vertical-align: middle; margin-left: 0.5rem\">LOC</span>\n",
       "</mark>\n",
       ".</br>That you may daily grow in virtue and useful \n",
       "<mark class=\"entity\" style=\"background: #7aecec; padding: 0.45em 0.6em; margin: 0 0.25em; line-height: 1; border-radius: 0.35em;\">\n",
       "    Learning\n",
       "    <span style=\"font-size: 0.8em; font-weight: bold; line-height: 1; border-radius: 0.35em; vertical-align: middle; margin-left: 0.5rem\">ORG</span>\n",
       "</mark>\n",
       ", and be a bright Orniment in Church or \n",
       "<mark class=\"entity\" style=\"background: #7aecec; padding: 0.45em 0.6em; margin: 0 0.25em; line-height: 1; border-radius: 0.35em;\">\n",
       "    State\n",
       "    <span style=\"font-size: 0.8em; font-weight: bold; line-height: 1; border-radius: 0.35em; vertical-align: middle; margin-left: 0.5rem\">ORG</span>\n",
       "</mark>\n",
       " is the sincere wish of \n",
       "<mark class=\"entity\" style=\"background: #f0d0ff; padding: 0.45em 0.6em; margin: 0 0.25em; line-height: 1; border-radius: 0.35em;\">\n",
       "    Dear Cousin Your affectionat\n",
       "    <span style=\"font-size: 0.8em; font-weight: bold; line-height: 1; border-radius: 0.35em; vertical-align: middle; margin-left: 0.5rem\">WORK_OF_ART</span>\n",
       "</mark>\n",
       " Friend,</br>\n",
       "<mark class=\"entity\" style=\"background: #aa9cfc; padding: 0.45em 0.6em; margin: 0 0.25em; line-height: 1; border-radius: 0.35em;\">\n",
       "    Nabby Smith\n",
       "    <span style=\"font-size: 0.8em; font-weight: bold; line-height: 1; border-radius: 0.35em; vertical-align: middle; margin-left: 0.5rem\">PERSON</span>\n",
       "</mark>\n",
       "</br>N B. How the Lady abbess came to subscribe herself \n",
       "<mark class=\"entity\" style=\"background: #7aecec; padding: 0.45em 0.6em; margin: 0 0.25em; line-height: 1; border-radius: 0.35em;\">\n",
       "    Serviteur\n",
       "    <span style=\"font-size: 0.8em; font-weight: bold; line-height: 1; border-radius: 0.35em; vertical-align: middle; margin-left: 0.5rem\">ORG</span>\n",
       "</mark>\n",
       ", which you know is of the masculine \n",
       "<mark class=\"entity\" style=\"background: #7aecec; padding: 0.45em 0.6em; margin: 0 0.25em; line-height: 1; border-radius: 0.35em;\">\n",
       "    Gender\n",
       "    <span style=\"font-size: 0.8em; font-weight: bold; line-height: 1; border-radius: 0.35em; vertical-align: middle; margin-left: 0.5rem\">ORG</span>\n",
       "</mark>\n",
       " I cannot devise unless like all other Ladies in a convent, she chose to make use of the Masculine \n",
       "<mark class=\"entity\" style=\"background: #7aecec; padding: 0.45em 0.6em; margin: 0 0.25em; line-height: 1; border-radius: 0.35em;\">\n",
       "    Gender\n",
       "    <span style=\"font-size: 0.8em; font-weight: bold; line-height: 1; border-radius: 0.35em; vertical-align: middle; margin-left: 0.5rem\">ORG</span>\n",
       "</mark>\n",
       ", rather than the \n",
       "<mark class=\"entity\" style=\"background: #7aecec; padding: 0.45em 0.6em; margin: 0 0.25em; line-height: 1; border-radius: 0.35em;\">\n",
       "    Feminine\n",
       "    <span style=\"font-size: 0.8em; font-weight: bold; line-height: 1; border-radius: 0.35em; vertical-align: middle; margin-left: 0.5rem\">ORG</span>\n",
       "</mark>\n",
       ".</br>Excuse the wri[ting] for \n",
       "<mark class=\"entity\" style=\"background: #e4e7d2; padding: 0.45em 0.6em; margin: 0 0.25em; line-height: 1; border-radius: 0.35em;\">\n",
       "    tis\n",
       "    <span style=\"font-size: 0.8em; font-weight: bold; line-height: 1; border-radius: 0.35em; vertical-align: middle; margin-left: 0.5rem\">CARDINAL</span>\n",
       "</mark>\n",
       " late at \n",
       "<mark class=\"entity\" style=\"background: #bfe1d9; padding: 0.45em 0.6em; margin: 0 0.25em; line-height: 1; border-radius: 0.35em;\">\n",
       "    night\n",
       "    <span style=\"font-size: 0.8em; font-weight: bold; line-height: 1; border-radius: 0.35em; vertical-align: middle; margin-left: 0.5rem\">TIME</span>\n",
       "</mark>\n",
       ".</div></span>"
      ],
      "text/plain": [
       "<IPython.core.display.HTML object>"
      ]
     },
     "metadata": {},
     "output_type": "display_data"
    }
   ],
   "source": [
    "displacy.render(doc, style=\"ent\")"
   ]
  },
  {
   "cell_type": "code",
   "execution_count": 20,
   "id": "835b0653-7b30-4fe5-b818-825300d07a91",
   "metadata": {},
   "outputs": [
    {
     "data": {
      "text/plain": [
       "18"
      ]
     },
     "execution_count": 20,
     "metadata": {},
     "output_type": "execute_result"
    }
   ],
   "source": [
    "def model_people(texts):\n",
    "    potential_people = []\n",
    "    for text in texts[:10]:\n",
    "        doc = nlp(text['text'].lower())\n",
    "        for ent in doc.ents:\n",
    "            if ent.label_ == \"PERSON\":\n",
    "                if ent.text not in potential_people:\n",
    "                    potential_people.append(ent.text)\n",
    "    return potential_people\n",
    "potential_people = model_people(texts)\n",
    "potential_people.sort()\n",
    "len(potential_people)"
   ]
  },
  {
   "cell_type": "code",
   "execution_count": 21,
   "id": "14b7d560-77a4-45a9-8ea6-4ce073e0c1ea",
   "metadata": {},
   "outputs": [
    {
     "data": {
      "text/plain": [
       "['a. smith',\n",
       " 'a. smith\\np s',\n",
       " 'abll',\n",
       " 'adams',\n",
       " 'adams returnd',\n",
       " 'ayers',\n",
       " 'ayres',\n",
       " 'betsy',\n",
       " 'cranch',\n",
       " 'diana',\n",
       " 'eaquil',\n",
       " 'eyers',\n",
       " 'lord',\n",
       " 'nabby smith\\n',\n",
       " 'tom',\n",
       " 'tom hope',\n",
       " 'tom shall',\n",
       " 'wheelwrights letter']"
      ]
     },
     "execution_count": 21,
     "metadata": {},
     "output_type": "execute_result"
    }
   ],
   "source": [
    "potential_people"
   ]
  },
  {
   "cell_type": "code",
   "execution_count": null,
   "id": "1ef29b8b-1fc5-45ac-bff0-48e25a4fb509",
   "metadata": {},
   "outputs": [],
   "source": []
  },
  {
   "cell_type": "markdown",
   "id": "cd097145-d560-4c48-9711-ad3e84656623",
   "metadata": {},
   "source": [
    "## Finding Noun Chunks"
   ]
  },
  {
   "cell_type": "markdown",
   "id": "8b73a520-c52e-47c0-a84d-3209a17070b9",
   "metadata": {},
   "source": [
    "Now that we have a good sense of the strengths and weaknesses of an existing pipeline, we can start to create our own custom pipeline tailored to the data at hand."
   ]
  },
  {
   "cell_type": "code",
   "execution_count": 172,
   "id": "0df2a371-e9c9-4223-b258-1a496a2add17",
   "metadata": {},
   "outputs": [],
   "source": [
    "chunks = []\n",
    "nlp = spacy.load(\"en_core_web_sm\")\n",
    "for i, text in enumerate(texts):\n",
    "    doc = nlp(text[\"text\"])\n",
    "    for chunk in doc.noun_chunks:\n",
    "        if chunk.text[0].isupper() and len(chunk.text.split()) > 1:\n",
    "            hit = True\n",
    "            for part in chunk.text.split():\n",
    "                if part[0].isupper():\n",
    "                    pass\n",
    "                else:\n",
    "                    hit=False\n",
    "            if hit == True:\n",
    "                if chunk.text not in chunks and \"Your\" not in chunk.text:\n",
    "                    chunks.append(chunk.text)\n",
    "chunks.sort()"
   ]
  },
  {
   "cell_type": "code",
   "execution_count": 174,
   "id": "8b87a8ae-728f-4ddb-9678-3161ab71054f",
   "metadata": {},
   "outputs": [
    {
     "data": {
      "text/plain": [
       "3461"
      ]
     },
     "execution_count": 174,
     "metadata": {},
     "output_type": "execute_result"
    }
   ],
   "source": [
    "len(chunks)"
   ]
  },
  {
   "cell_type": "code",
   "execution_count": 176,
   "id": "398695e0-56d1-48b0-aed2-903816686018",
   "metadata": {},
   "outputs": [],
   "source": [
    "with open (\"../data/noun_chunks.txt\", \"w\", encoding=\"utf-8\") as f:\n",
    "    f.write(\"\\n\".join(chunks))"
   ]
  },
  {
   "cell_type": "markdown",
   "id": "020a4590-00ae-4082-b4c1-c9c44c3fba16",
   "metadata": {},
   "source": [
    "## Making a Gazateer"
   ]
  },
  {
   "cell_type": "code",
   "execution_count": 8,
   "id": "109699e4-8ed3-4fa9-912b-f8ff8b12b155",
   "metadata": {},
   "outputs": [
    {
     "data": {
      "text/plain": [
       "['Adams, John']"
      ]
     },
     "execution_count": 8,
     "metadata": {},
     "output_type": "execute_result"
    }
   ],
   "source": [
    "authors[0]"
   ]
  },
  {
   "cell_type": "code",
   "execution_count": 9,
   "id": "c69fcbd1-844d-440d-80ca-e09d1c5172e8",
   "metadata": {},
   "outputs": [
    {
     "data": {
      "text/plain": [
       "[]"
      ]
     },
     "execution_count": 9,
     "metadata": {},
     "output_type": "execute_result"
    }
   ],
   "source": [
    "recipients[0]"
   ]
  },
  {
   "cell_type": "code",
   "execution_count": 179,
   "id": "9bd553e8-c931-4a49-b240-7d945dfcbe69",
   "metadata": {},
   "outputs": [
    {
     "data": {
      "text/plain": [
       "19335"
      ]
     },
     "execution_count": 179,
     "metadata": {},
     "output_type": "execute_result"
    }
   ],
   "source": [
    "names = []\n",
    "for a, r in zip(recipients, authors):\n",
    "    for author in a:\n",
    "        if author not in names:\n",
    "            names.append(author)\n",
    "    for recipient in r:\n",
    "        if recipient not in names:\n",
    "            names.append(recipient)\n",
    "len(names)"
   ]
  },
  {
   "cell_type": "code",
   "execution_count": 230,
   "id": "5ed6ebcb-c30b-460b-a0e3-15d9a866a62e",
   "metadata": {},
   "outputs": [],
   "source": [
    "names.sort()"
   ]
  },
  {
   "cell_type": "code",
   "execution_count": 139,
   "id": "739744ec-3f6b-40a6-9d06-6c3134d006e3",
   "metadata": {},
   "outputs": [
    {
     "data": {
      "text/plain": [
       "['',\n",
       " 'Abadie, —— d’',\n",
       " 'Abbema, Balthasar Elias',\n",
       " 'Abbot, David',\n",
       " 'Abbott, James',\n",
       " 'Abbott, Thomas Jefferson',\n",
       " 'Abbés Arnoux and Chalut',\n",
       " 'Abell, Jesse',\n",
       " 'Abercrombie, James',\n",
       " 'Abercromby, John',\n",
       " 'Abernethie, John',\n",
       " 'Abishai, Thomas',\n",
       " 'Aborn, Henry',\n",
       " 'Aborn, Thomas',\n",
       " 'Abraham Runnels & Son',\n",
       " 'Abraham, Francis',\n",
       " 'AcModery, John Jay',\n",
       " 'Academy of Natural Sciences of Philadelphia',\n",
       " 'Acarq, Jean-Pierre d’',\n",
       " 'Acary de La Rivière, Henry-Dominique d’']"
      ]
     },
     "execution_count": 174,
     "metadata": {},
     "output_type": "execute_result"
    }
   ],
   "source": [
    "names[:20]"
   ]
  },
  {
   "cell_type": "code",
   "execution_count": 231,
   "id": "73045089-6687-43e2-87e0-8f5c05e74701",
   "metadata": {},
   "outputs": [],
   "source": [
    "with open ('../data/fo_names.txt', 'w', encoding=\"utf-8\") as f:\n",
    "    f.write(\"\\n\".join(names))"
   ]
  },
  {
   "cell_type": "code",
   "execution_count": 178,
   "id": "99c7942e-3a7f-467a-ba3a-b1fe6689aa25",
   "metadata": {},
   "outputs": [],
   "source": [
    "with open ('../data/fo_names.txt', 'r', encoding=\"utf-8\") as f:\n",
    "    names = f.read().splitlines()"
   ]
  },
  {
   "cell_type": "code",
   "execution_count": 319,
   "id": "dfce45e6-1af0-4d19-8514-6a41de5b9986",
   "metadata": {},
   "outputs": [
    {
     "name": "stdout",
     "output_type": "stream",
     "text": [
      "['Representatives', 'Senate', 'Health', 'General', 'Officials', 'Congressional', 'Delegation', 'Superintendent', 'Justices', 'Court', 'Virginia', 'County', 'State', 'Prince', 'Committee', 'Commission', 'Citizens', 'Post', 'Academy', 'Sons of Liberty', 'Patriot', 'Society', 'Selectmen', 'Meeting', 'Young Men', 'Assessors', 'Collectors', 'Navy', 'Army']\n",
      "Boston\n",
      "16675\n",
      "7558\n"
     ]
    }
   ],
   "source": [
    "with open(\"../data/government_indicators.txt\", \"r\") as f:\n",
    "    gov_indicators = f.read().splitlines()\n",
    "    print (gov_indicators)\n",
    "with open(\"../data/places.txt\", \"r\") as f:\n",
    "    places = f.read().splitlines()\n",
    "patterns = []\n",
    "potential = []\n",
    "for name in names:\n",
    "    name = name.replace(\"“\", \"\\\"\").replace(\"”\", \"\\\"\").replace(\"’\", \"\\'\")\n",
    "    if \"(business)\" in name or \" firm)\" in name:\n",
    "            patterns.append({\"pattern\": name.split(\"(\")[0].strip(), \"label\": \"ORG\"})\n",
    "    elif \", town of\" in name:\n",
    "        patterns.append({\"pattern\": name.split(\", \")[0].strip(), \"label\": \"TOWN\"})\n",
    "    elif \"(newspaper)\" in name:\n",
    "        patterns.append({\"pattern\": name.split(\"(\")[0].strip(), \"label\": \"NEWSPAPER\"})\n",
    "    elif \"Pseudonym\" in name:\n",
    "        name = name.split(\"Pseudonym:\")[1].strip()\n",
    "        patterns.append({\"pattern\": name, \"label\": \"PSEUDONYM\"})\n",
    "    elif \"(pseudonym)\" in name:\n",
    "        patterns.append({\"pattern\": name.split(\"(\")[0].strip(), \"label\": \"PSEUDONYM\"})\n",
    "    elif \"Church\" in name:\n",
    "        patterns.append({\"pattern\": name.strip(), \"label\": \"RELIGIOUS_ORG\"})\n",
    "    elif \"Indians\" in name:\n",
    "        name = name.split(\" Indians\")[0]\n",
    "        name = name.replace(\", and \", \", \").replace(\" and \", \", \")\n",
    "        parts = name.split(\",\")\n",
    "        for p in parts:\n",
    "            if p != \"Southern\":\n",
    "                patterns.append({\"pattern\": name.strip(), \"label\": \"NATIVE_AMERICAN\"})\n",
    "    elif \"(of\" in name:\n",
    "        patterns.append({\"pattern\": name.split(\"(of\")[0], \"label\": \"PERSON\"})\n",
    "    elif \"\\\"\" in name or \"——\" in name:\n",
    "        pass\n",
    "    elif any(gov in name for gov in gov_indicators):\n",
    "        patterns.append({\"pattern\": name.strip(), \"label\": \"GOVERNMENT\"})\n",
    "    elif any(place in name for place in places):\n",
    "        if \"Boston\" in name:\n",
    "            print (name)\n",
    "        patterns.append({\"pattern\": name.strip(), \"label\": \"LOC\"})\n",
    "    else:\n",
    "        if name.count(\", \") == 1:\n",
    "            surname, first = name.split(\", \", 1)\n",
    "            name = f\"{first} {surname}\"\n",
    "            name = name.strip()\n",
    "            name = name.replace(\"d' \", \"d'\")\n",
    "            if name[:2] != \"A \" and \"?\" not in name and len(name) < 50 and \"Representatives\" not in name:\n",
    "                patterns.append({\"pattern\": name, \"label\": \"PERSON\"})\n",
    "                if len(name.split()) < 4:\n",
    "                    for part in name.split():\n",
    "                        if part[0].isupper() and len(part) > 2 and part.isalpha():\n",
    "                            if part not in potential:\n",
    "                                potential.append(part)\n",
    "                                \n",
    "                            \n",
    "print (len(patterns))\n",
    "print (len(potential))\n",
    "potential.sort()"
   ]
  },
  {
   "cell_type": "code",
   "execution_count": 320,
   "id": "d19caf5d-9fb1-472b-8bf8-3a898763145a",
   "metadata": {},
   "outputs": [
    {
     "data": {
      "text/plain": [
       "16771"
      ]
     },
     "execution_count": 320,
     "metadata": {},
     "output_type": "execute_result"
    }
   ],
   "source": [
    "patterns = patterns+neuter_patterns+female_patterns+male_patterns\n",
    "len(patterns)"
   ]
  },
  {
   "cell_type": "markdown",
   "id": "81aff533-9813-4b82-b9e3-ddc263ef7a07",
   "metadata": {},
   "source": [
    "### Single Names"
   ]
  },
  {
   "cell_type": "code",
   "execution_count": 70,
   "id": "29a072ea-6813-4d9e-b196-fbe3d241d06c",
   "metadata": {},
   "outputs": [],
   "source": [
    "with open(\"../data/potential_names.txt\", \"w\", encoding=\"utf-8\") as f:\n",
    "    f.write(\"\\n\".join(potential))"
   ]
  },
  {
   "cell_type": "code",
   "execution_count": 321,
   "id": "d828eb53-e552-43dd-9897-d1e81a14c91e",
   "metadata": {},
   "outputs": [],
   "source": [
    "with open(\"../data/potential_names_manual.txt\", \"r\", encoding=\"utf-8\") as f:\n",
    "    potential_names = f.read().splitlines()\n",
    "    for p in potential_names:\n",
    "        patterns.append({\"pattern\": p, \"label\": \"PERSON\"})"
   ]
  },
  {
   "cell_type": "markdown",
   "id": "0e78515e-225f-4e7f-9703-c5c9e7f21bdb",
   "metadata": {},
   "source": [
    "### Native American Tribes"
   ]
  },
  {
   "cell_type": "code",
   "execution_count": 103,
   "id": "1f13acb0-6597-494f-b2e5-7a9762bad816",
   "metadata": {},
   "outputs": [],
   "source": [
    "s = requests.get(\"https://www.legendsofamerica.com/na-tribelist/\")\n",
    "soup = BeautifulSoup(s.content)\n",
    "content = soup.find(\"div\", {\"class\": \"entry-content\"})"
   ]
  },
  {
   "cell_type": "code",
   "execution_count": 215,
   "id": "1c711573-c6c4-4767-ad76-b6b0498d61fe",
   "metadata": {},
   "outputs": [
    {
     "name": "stdout",
     "output_type": "stream",
     "text": [
      "828\n"
     ]
    }
   ],
   "source": [
    "tribes = []\n",
    "for div in content.find_all(\"div\")[1:]:\n",
    "    tribal_names = div.text.split(\"\\n\")\n",
    "    for t in tribal_names:\n",
    "        t = t.strip()\n",
    "        if len(t) > 1:\n",
    "            if \"/\" in t:\n",
    "                for i in t.split(\"/\"):\n",
    "                    tribes.append(i)\n",
    "            else:        \n",
    "                tribes.append(t)\n",
    "print (len(tribes))\n",
    "tribes.sort()"
   ]
  },
  {
   "cell_type": "code",
   "execution_count": 216,
   "id": "867b274d-f385-4684-ab02-06404847a26f",
   "metadata": {},
   "outputs": [],
   "source": [
    "with open (\"../data/native_american_tribes.txt\", \"w\", encoding=\"utf-8\") as f:\n",
    "    f.write(\"\\n\".join(tribes))"
   ]
  },
  {
   "cell_type": "code",
   "execution_count": 322,
   "id": "8203ad78-653d-48b1-b174-c0e5f7fa2345",
   "metadata": {},
   "outputs": [],
   "source": [
    "with open (\"../data/native_american_tribes_manual.txt\", \"r\", encoding=\"utf-8\") as f:\n",
    "    tribes = f.read().splitlines()\n",
    "    for t in tribes:\n",
    "        patterns.append({\"pattern\": t, \"label\": \"NATIVE_AMERICAN\"})"
   ]
  },
  {
   "cell_type": "code",
   "execution_count": 222,
   "id": "427391f5-ea65-4c29-a4bd-5dc5bf84c267",
   "metadata": {},
   "outputs": [
    {
     "data": {
      "text/plain": [
       "['Ababco',\n",
       " 'Abenaki',\n",
       " 'Aberginian',\n",
       " 'Abihka',\n",
       " 'Abittibi',\n",
       " 'Abnakii',\n",
       " 'Absaroka',\n",
       " 'Absaroka',\n",
       " 'Absentee Shawnee',\n",
       " 'Accohanoc']"
      ]
     },
     "execution_count": 222,
     "metadata": {},
     "output_type": "execute_result"
    }
   ],
   "source": [
    "tribes[:10]"
   ]
  },
  {
   "cell_type": "markdown",
   "id": "892898f7-31bd-4b16-b73c-78449536277f",
   "metadata": {},
   "source": [
    "### Bringing the Patterns Together"
   ]
  },
  {
   "cell_type": "code",
   "execution_count": 336,
   "id": "f3a020d1-10e7-4d5f-8733-10712df9028c",
   "metadata": {},
   "outputs": [
    {
     "name": "stdout",
     "output_type": "stream",
     "text": [
      "25130\n"
     ]
    }
   ],
   "source": [
    "print (len(patterns))\n",
    "# nlp = spacy.blank(\"en\")\n",
    "nlp = spacy.load(\"en_core_web_sm\")\n",
    "ruler = nlp.add_pipe(\"entity_ruler\", after='ner', config={\"overwrite_ents\": True})\n",
    "ruler.add_patterns(patterns)"
   ]
  },
  {
   "cell_type": "markdown",
   "id": "3ca115ca-81b8-4040-9939-29bc3aa393ab",
   "metadata": {},
   "source": [
    "### Finding Names with Salutations"
   ]
  },
  {
   "cell_type": "code",
   "execution_count": 129,
   "id": "8263623a-aaee-40b1-bc77-a7a995ec925e",
   "metadata": {},
   "outputs": [],
   "source": [
    "import spacy\n",
    "from spacy.util import filter_spans\n",
    "from spacy.tokens import Span\n",
    "from spacy.language import Language\n",
    "import re"
   ]
  },
  {
   "cell_type": "code",
   "execution_count": 337,
   "id": "de134d25-99bf-4e0c-84f5-615f3411f2b3",
   "metadata": {},
   "outputs": [
    {
     "data": {
      "text/plain": [
       "<function __main__.salutation_person(doc)>"
      ]
     },
     "execution_count": 337,
     "metadata": {},
     "output_type": "execute_result"
    }
   ],
   "source": [
    "with open (\"../data/salutations.txt\", \"r\") as f:\n",
    "    sals = f.read().splitlines()\n",
    "sals = \"|\".join(sals)\n",
    "salutation_names_pattern = f\"({sals}\"+r\")(\\.)* [A-Z]\\w+( [A-Z]\\w+)*\"\n",
    "@Language.component(\"salutation_person\")\n",
    "def salutation_person(doc):\n",
    "    text = doc.text\n",
    "    person_ents = []\n",
    "    original_ents = list(doc.ents)\n",
    "    for match in re.finditer(salutation_names_pattern, doc.text):\n",
    "        start, end = match.span()\n",
    "        span = doc.char_span(start, end)\n",
    "        if span != None:\n",
    "            person_ents.append((span.start, span.end, span.text))\n",
    "    if len(person_ents) > 0:\n",
    "        for start, end, name in person_ents:\n",
    "            per_ent = Span(doc, start, end, label=\"PERSON\")\n",
    "            original_ents.append(per_ent)\n",
    "    filtered = filter_spans(original_ents)\n",
    "    doc.ents = filtered\n",
    "    return (doc)\n",
    "nlp.add_pipe(\"salutation_person\", before=\"ner\")"
   ]
  },
  {
   "cell_type": "markdown",
   "id": "9a7e644a-9130-49c2-8daa-e799dc60fd2b",
   "metadata": {},
   "source": [
    "### Finding Names with 1-3 Initials and Lastname"
   ]
  },
  {
   "cell_type": "code",
   "execution_count": 338,
   "id": "a0a062dc-bb52-45d3-b3ca-e4012e04addd",
   "metadata": {},
   "outputs": [
    {
     "data": {
      "text/plain": [
       "<function __main__.salutation_person(doc)>"
      ]
     },
     "execution_count": 338,
     "metadata": {},
     "output_type": "execute_result"
    }
   ],
   "source": [
    "initial_pattern = r\"[A-Z](\\.)*( [A-Z](\\.)*)*( [A-Z](\\.)*)* [A-Z]\\w+\"\n",
    "@Language.component(\"initial_person\")\n",
    "def salutation_person(doc):\n",
    "    text = doc.text\n",
    "    person_ents = []\n",
    "    original_ents = list(doc.ents)\n",
    "    for match in re.finditer(initial_pattern, doc.text):\n",
    "        start, end = match.span()\n",
    "        span = doc.char_span(start, end)\n",
    "        if span != None:\n",
    "            person_ents.append((span.start, span.end, span.text))\n",
    "    if len(person_ents) > 0:\n",
    "        for start, end, name in person_ents:\n",
    "            per_ent = Span(doc, start, end, label=\"PERSON_INITIALS\")\n",
    "            original_ents.append(per_ent)\n",
    "    filtered = filter_spans(original_ents)\n",
    "    doc.ents = filtered\n",
    "    return (doc)\n",
    "nlp.add_pipe(\"initial_person\", before=\"entity_ruler\")"
   ]
  },
  {
   "cell_type": "code",
   "execution_count": null,
   "id": "dc548420-febd-4825-9fa9-9dbc346522e8",
   "metadata": {},
   "outputs": [],
   "source": []
  },
  {
   "cell_type": "code",
   "execution_count": 46,
   "id": "79833e51-3ff2-4e5a-bb29-8840a59c9567",
   "metadata": {},
   "outputs": [],
   "source": [
    "from spacy import displacy"
   ]
  },
  {
   "cell_type": "code",
   "execution_count": 339,
   "id": "41bf3ada-94a8-4a3a-8db8-84f1d0346b56",
   "metadata": {},
   "outputs": [
    {
     "data": {
      "text/html": [
       "<span class=\"tex2jax_ignore\"><div class=\"entities\" style=\"line-height: 2.5; direction: ltr\">\n",
       "<mark class=\"entity\" style=\"background: #feca74; padding: 0.45em 0.6em; margin: 0 0.25em; line-height: 1; border-radius: 0.35em;\">\n",
       "    London\n",
       "    <span style=\"font-size: 0.8em; font-weight: bold; line-height: 1; border-radius: 0.35em; vertical-align: middle; margin-left: 0.5rem\">GPE</span>\n",
       "</mark>\n",
       " Grosvenour Square \n",
       "<mark class=\"entity\" style=\"background: #bfe1d9; padding: 0.45em 0.6em; margin: 0 0.25em; line-height: 1; border-radius: 0.35em;\">\n",
       "    December 5th 1787\n",
       "    <span style=\"font-size: 0.8em; font-weight: bold; line-height: 1; border-radius: 0.35em; vertical-align: middle; margin-left: 0.5rem\">DATE</span>\n",
       "</mark>\n",
       ".</br>Mrs. \n",
       "<mark class=\"entity\" style=\"background: #aa9cfc; padding: 0.45em 0.6em; margin: 0 0.25em; line-height: 1; border-radius: 0.35em;\">\n",
       "    Adams\n",
       "    <span style=\"font-size: 0.8em; font-weight: bold; line-height: 1; border-radius: 0.35em; vertical-align: middle; margin-left: 0.5rem\">PERSON</span>\n",
       "</mark>\n",
       " presents \n",
       "<mark class=\"entity\" style=\"background: #ddd; padding: 0.45em 0.6em; margin: 0 0.25em; line-height: 1; border-radius: 0.35em;\">\n",
       "    her\n",
       "    <span style=\"font-size: 0.8em; font-weight: bold; line-height: 1; border-radius: 0.35em; vertical-align: middle; margin-left: 0.5rem\">REF_FEMALE</span>\n",
       "</mark>\n",
       " respectfull compliments to Mr. \n",
       "<mark class=\"entity\" style=\"background: #aa9cfc; padding: 0.45em 0.6em; margin: 0 0.25em; line-height: 1; border-radius: 0.35em;\">\n",
       "    Jefferson\n",
       "    <span style=\"font-size: 0.8em; font-weight: bold; line-height: 1; border-radius: 0.35em; vertical-align: middle; margin-left: 0.5rem\">PERSON</span>\n",
       "</mark>\n",
       " and asks the favour of \n",
       "<mark class=\"entity\" style=\"background: #ddd; padding: 0.45em 0.6em; margin: 0 0.25em; line-height: 1; border-radius: 0.35em;\">\n",
       "    him\n",
       "    <span style=\"font-size: 0.8em; font-weight: bold; line-height: 1; border-radius: 0.35em; vertical-align: middle; margin-left: 0.5rem\">REF_MALE</span>\n",
       "</mark>\n",
       " to permit petit to purchase for \n",
       "<mark class=\"entity\" style=\"background: #ddd; padding: 0.45em 0.6em; margin: 0 0.25em; line-height: 1; border-radius: 0.35em;\">\n",
       "    her\n",
       "    <span style=\"font-size: 0.8em; font-weight: bold; line-height: 1; border-radius: 0.35em; vertical-align: middle; margin-left: 0.5rem\">REF_FEMALE</span>\n",
       "</mark>\n",
       " \n",
       "<mark class=\"entity\" style=\"background: #e4e7d2; padding: 0.45em 0.6em; margin: 0 0.25em; line-height: 1; border-radius: 0.35em;\">\n",
       "    ten\n",
       "    <span style=\"font-size: 0.8em; font-weight: bold; line-height: 1; border-radius: 0.35em; vertical-align: middle; margin-left: 0.5rem\">CARDINAL</span>\n",
       "</mark>\n",
       " Ells of double Florence of any fashionable coulour, orange excepted which is in high vogue here. Mrs. \n",
       "<mark class=\"entity\" style=\"background: #aa9cfc; padding: 0.45em 0.6em; margin: 0 0.25em; line-height: 1; border-radius: 0.35em;\">\n",
       "    A.\n",
       "    <span style=\"font-size: 0.8em; font-weight: bold; line-height: 1; border-radius: 0.35em; vertical-align: middle; margin-left: 0.5rem\">PERSON</span>\n",
       "</mark>\n",
       " excepts green also of which \n",
       "<mark class=\"entity\" style=\"background: #ddd; padding: 0.45em 0.6em; margin: 0 0.25em; line-height: 1; border-radius: 0.35em;\">\n",
       "    she\n",
       "    <span style=\"font-size: 0.8em; font-weight: bold; line-height: 1; border-radius: 0.35em; vertical-align: middle; margin-left: 0.5rem\">REF_FEMALE</span>\n",
       "</mark>\n",
       " has enough. \n",
       "<mark class=\"entity\" style=\"background: #aa9cfc; padding: 0.45em 0.6em; margin: 0 0.25em; line-height: 1; border-radius: 0.35em;\">\n",
       "    Mr. Muchier\n",
       "    <span style=\"font-size: 0.8em; font-weight: bold; line-height: 1; border-radius: 0.35em; vertical-align: middle; margin-left: 0.5rem\">PERSON</span>\n",
       "</mark>\n",
       " if in \n",
       "<mark class=\"entity\" style=\"background: #feca74; padding: 0.45em 0.6em; margin: 0 0.25em; line-height: 1; border-radius: 0.35em;\">\n",
       "    paris\n",
       "    <span style=\"font-size: 0.8em; font-weight: bold; line-height: 1; border-radius: 0.35em; vertical-align: middle; margin-left: 0.5rem\">GPE</span>\n",
       "</mark>\n",
       " will be so kind as to take charge of it, and Mrs. \n",
       "<mark class=\"entity\" style=\"background: #aa9cfc; padding: 0.45em 0.6em; margin: 0 0.25em; line-height: 1; border-radius: 0.35em;\">\n",
       "    Adams\n",
       "    <span style=\"font-size: 0.8em; font-weight: bold; line-height: 1; border-radius: 0.35em; vertical-align: middle; margin-left: 0.5rem\">PERSON</span>\n",
       "</mark>\n",
       " will send the money by \n",
       "<mark class=\"entity\" style=\"background: #aa9cfc; padding: 0.45em 0.6em; margin: 0 0.25em; line-height: 1; border-radius: 0.35em;\">\n",
       "    Mr. Trumble\n",
       "    <span style=\"font-size: 0.8em; font-weight: bold; line-height: 1; border-radius: 0.35em; vertical-align: middle; margin-left: 0.5rem\">PERSON</span>\n",
       "</mark>\n",
       " who will be in \n",
       "<mark class=\"entity\" style=\"background: #feca74; padding: 0.45em 0.6em; margin: 0 0.25em; line-height: 1; border-radius: 0.35em;\">\n",
       "    paris\n",
       "    <span style=\"font-size: 0.8em; font-weight: bold; line-height: 1; border-radius: 0.35em; vertical-align: middle; margin-left: 0.5rem\">GPE</span>\n",
       "</mark>\n",
       " some time \n",
       "<mark class=\"entity\" style=\"background: #bfe1d9; padding: 0.45em 0.6em; margin: 0 0.25em; line-height: 1; border-radius: 0.35em;\">\n",
       "    next week\n",
       "    <span style=\"font-size: 0.8em; font-weight: bold; line-height: 1; border-radius: 0.35em; vertical-align: middle; margin-left: 0.5rem\">DATE</span>\n",
       "</mark>\n",
       ".</br>By Letters \n",
       "<mark class=\"entity\" style=\"background: #bfe1d9; padding: 0.45em 0.6em; margin: 0 0.25em; line-height: 1; border-radius: 0.35em;\">\n",
       "    this day\n",
       "    <span style=\"font-size: 0.8em; font-weight: bold; line-height: 1; border-radius: 0.35em; vertical-align: middle; margin-left: 0.5rem\">DATE</span>\n",
       "</mark>\n",
       " received from \n",
       "<mark class=\"entity\" style=\"background: #ff9561; padding: 0.45em 0.6em; margin: 0 0.25em; line-height: 1; border-radius: 0.35em;\">\n",
       "    Boston\n",
       "    <span style=\"font-size: 0.8em; font-weight: bold; line-height: 1; border-radius: 0.35em; vertical-align: middle; margin-left: 0.5rem\">LOC</span>\n",
       "</mark>\n",
       " it appears that a convention  was agred too by both \n",
       "<mark class=\"entity\" style=\"background: #7aecec; padding: 0.45em 0.6em; margin: 0 0.25em; line-height: 1; border-radius: 0.35em;\">\n",
       "    Houses\n",
       "    <span style=\"font-size: 0.8em; font-weight: bold; line-height: 1; border-radius: 0.35em; vertical-align: middle; margin-left: 0.5rem\">ORG</span>\n",
       "</mark>\n",
       ", and that it is to meet, the \n",
       "<mark class=\"entity\" style=\"background: #e4e7d2; padding: 0.45em 0.6em; margin: 0 0.25em; line-height: 1; border-radius: 0.35em;\">\n",
       "    second\n",
       "    <span style=\"font-size: 0.8em; font-weight: bold; line-height: 1; border-radius: 0.35em; vertical-align: middle; margin-left: 0.5rem\">ORDINAL</span>\n",
       "</mark>\n",
       " \n",
       "<mark class=\"entity\" style=\"background: #bfe1d9; padding: 0.45em 0.6em; margin: 0 0.25em; line-height: 1; border-radius: 0.35em;\">\n",
       "    wednesday\n",
       "    <span style=\"font-size: 0.8em; font-weight: bold; line-height: 1; border-radius: 0.35em; vertical-align: middle; margin-left: 0.5rem\">DATE</span>\n",
       "</mark>\n",
       " in \n",
       "<mark class=\"entity\" style=\"background: #aa9cfc; padding: 0.45em 0.6em; margin: 0 0.25em; line-height: 1; border-radius: 0.35em;\">\n",
       "    Jan’ry\n",
       "    <span style=\"font-size: 0.8em; font-weight: bold; line-height: 1; border-radius: 0.35em; vertical-align: middle; margin-left: 0.5rem\">PERSON</span>\n",
       "</mark>\n",
       ".</br>Mr. \n",
       "<mark class=\"entity\" style=\"background: #aa9cfc; padding: 0.45em 0.6em; margin: 0 0.25em; line-height: 1; border-radius: 0.35em;\">\n",
       "    King\n",
       "    <span style=\"font-size: 0.8em; font-weight: bold; line-height: 1; border-radius: 0.35em; vertical-align: middle; margin-left: 0.5rem\">PERSON</span>\n",
       "</mark>\n",
       " writes that \n",
       "<mark class=\"entity\" style=\"background: #aa9cfc; padding: 0.45em 0.6em; margin: 0 0.25em; line-height: 1; border-radius: 0.35em;\">\n",
       "    Mr. Jeffersons\n",
       "    <span style=\"font-size: 0.8em; font-weight: bold; line-height: 1; border-radius: 0.35em; vertical-align: middle; margin-left: 0.5rem\">PERSON</span>\n",
       "</mark>\n",
       " commission is renewed at the court of \n",
       "<mark class=\"entity\" style=\"background: #feca74; padding: 0.45em 0.6em; margin: 0 0.25em; line-height: 1; border-radius: 0.35em;\">\n",
       "    France\n",
       "    <span style=\"font-size: 0.8em; font-weight: bold; line-height: 1; border-radius: 0.35em; vertical-align: middle; margin-left: 0.5rem\">GPE</span>\n",
       "</mark>\n",
       ", and Mr. \n",
       "<mark class=\"entity\" style=\"background: #aa9cfc; padding: 0.45em 0.6em; margin: 0 0.25em; line-height: 1; border-radius: 0.35em;\">\n",
       "    Adams\n",
       "    <span style=\"font-size: 0.8em; font-weight: bold; line-height: 1; border-radius: 0.35em; vertical-align: middle; margin-left: 0.5rem\">PERSON</span>\n",
       "</mark>\n",
       "’s resignation accepted, so that we shall quit this country as soon in \n",
       "<mark class=\"entity\" style=\"background: #bfe1d9; padding: 0.45em 0.6em; margin: 0 0.25em; line-height: 1; border-radius: 0.35em;\">\n",
       "    the spring\n",
       "    <span style=\"font-size: 0.8em; font-weight: bold; line-height: 1; border-radius: 0.35em; vertical-align: middle; margin-left: 0.5rem\">DATE</span>\n",
       "</mark>\n",
       " as we can go with safety.</br>Love to \n",
       "<mark class=\"entity\" style=\"background: #7aecec; padding: 0.45em 0.6em; margin: 0 0.25em; line-height: 1; border-radius: 0.35em;\">\n",
       "    the Young Ladies &amp;\n",
       "    <span style=\"font-size: 0.8em; font-weight: bold; line-height: 1; border-radius: 0.35em; vertical-align: middle; margin-left: 0.5rem\">ORG</span>\n",
       "</mark>\n",
       " thank my dear polly for \n",
       "<mark class=\"entity\" style=\"background: #ddd; padding: 0.45em 0.6em; margin: 0 0.25em; line-height: 1; border-radius: 0.35em;\">\n",
       "    her\n",
       "    <span style=\"font-size: 0.8em; font-weight: bold; line-height: 1; border-radius: 0.35em; vertical-align: middle; margin-left: 0.5rem\">REF_FEMALE</span>\n",
       "</mark>\n",
       " pretty \n",
       "<mark class=\"entity\" style=\"background: #aa9cfc; padding: 0.45em 0.6em; margin: 0 0.25em; line-height: 1; border-radius: 0.35em;\">\n",
       "    Letter\n",
       "    <span style=\"font-size: 0.8em; font-weight: bold; line-height: 1; border-radius: 0.35em; vertical-align: middle; margin-left: 0.5rem\">PERSON</span>\n",
       "</mark>\n",
       ".</div></span>"
      ],
      "text/plain": [
       "<IPython.core.display.HTML object>"
      ]
     },
     "metadata": {},
     "output_type": "display_data"
    }
   ],
   "source": [
    "text = texts[1200]['text']\n",
    "text =  text.replace(\"mr \", \"Mr. \").replace(\"mrs \", \" Mrs. \").replace(\"dr \", \" Dr. \")\n",
    "doc = nlp(text)\n",
    "displacy.render(doc, style=\"ent\")"
   ]
  },
  {
   "cell_type": "code",
   "execution_count": null,
   "id": "3dbbd367-a873-41f6-b1b2-6b6ed08c2944",
   "metadata": {},
   "outputs": [],
   "source": []
  },
  {
   "cell_type": "markdown",
   "id": "48ea94c1-67c0-4a23-98c5-7f4d090d77b7",
   "metadata": {},
   "source": [
    "## Part Four: Applying the Pipeline"
   ]
  },
  {
   "cell_type": "code",
   "execution_count": 313,
   "id": "40b60a81-9c02-4e4e-b69b-8869e94d2d14",
   "metadata": {},
   "outputs": [
    {
     "name": "stdout",
     "output_type": "stream",
     "text": [
      "102\n"
     ]
    }
   ],
   "source": [
    "connections = []\n",
    "for i, text in enumerate(texts[:100]):\n",
    "    authors = []\n",
    "    recipients = []\n",
    "    for name in text[\"author\"]:\n",
    "        if name.count(\", \") == 1:\n",
    "            surname, first = name.split(\", \", 1)\n",
    "            name = f\"{first} {surname}\"\n",
    "            authors.append(name)\n",
    "    for name in text['recipient']:\n",
    "        if name.count(\", \") == 1:\n",
    "            surname, first = name.split(\", \", 1)\n",
    "            name = f\"{first} {surname}\"\n",
    "            recipients.append(name)\n",
    "    doc = nlp(text[\"text\"])\n",
    "    people_referenced = []\n",
    "    for ent in doc.ents:\n",
    "        if ent.label_ == \"PERSON\":\n",
    "            people_referenced.append(ent.text)\n",
    "    for author in authors:\n",
    "        for person in recipients:\n",
    "            connections.append((author, person, \"Letter_To\"))\n",
    "    # for author in authors:\n",
    "    #     for person in people_referenced:\n",
    "    #         connections.append((author, person, \"Letter_Reference\"))\n",
    "    # for recipient in recipients:\n",
    "    #     for person in people_referenced:\n",
    "    #         connections.append((recipient, person, \"Letter_Reference\"))\n",
    "            \n",
    "print (len(connections))"
   ]
  },
  {
   "cell_type": "code",
   "execution_count": 310,
   "id": "ffc01f5d-228d-4205-8cbc-9e052486eeb4",
   "metadata": {},
   "outputs": [
    {
     "data": {
      "text/plain": [
       "[('Abigail Adams', 'Isaac Jr. Smith', 'Letter_To'),\n",
       " ('Abigail Adams', 'Mrs. Wheelwrights Letter', 'Letter_Reference'),\n",
       " ('Abigail Adams', 'Smith', 'Letter_Reference'),\n",
       " ('Isaac Jr. Smith', 'Mrs. Wheelwrights Letter', 'Letter_Reference'),\n",
       " ('Isaac Jr. Smith', 'Smith', 'Letter_Reference'),\n",
       " ('Abigail Adams', 'John Adams', 'Letter_To'),\n",
       " ('Abigail Adams', 'John Adams', 'Letter_To'),\n",
       " ('Abigail Adams', 'Cotton Tufts', 'Letter_To'),\n",
       " ('Abigail Adams', 'Mr. Eyers', 'Letter_Reference'),\n",
       " ('Abigail Adams', 'Ayers', 'Letter_Reference')]"
      ]
     },
     "execution_count": 310,
     "metadata": {},
     "output_type": "execute_result"
    }
   ],
   "source": [
    "connections[:10]"
   ]
  },
  {
   "cell_type": "code",
   "execution_count": 302,
   "id": "f9442fbb-13c2-4a91-b1af-fc9bb3f7ebbc",
   "metadata": {},
   "outputs": [],
   "source": [
    "import pandas as pd"
   ]
  },
  {
   "cell_type": "code",
   "execution_count": 314,
   "id": "295bf6fa-d5b8-408b-8210-1e3cd6e8da9c",
   "metadata": {},
   "outputs": [
    {
     "data": {
      "text/html": [
       "<div>\n",
       "<style scoped>\n",
       "    .dataframe tbody tr th:only-of-type {\n",
       "        vertical-align: middle;\n",
       "    }\n",
       "\n",
       "    .dataframe tbody tr th {\n",
       "        vertical-align: top;\n",
       "    }\n",
       "\n",
       "    .dataframe thead th {\n",
       "        text-align: right;\n",
       "    }\n",
       "</style>\n",
       "<table border=\"1\" class=\"dataframe\">\n",
       "  <thead>\n",
       "    <tr style=\"text-align: right;\">\n",
       "      <th></th>\n",
       "      <th>source</th>\n",
       "      <th>target</th>\n",
       "      <th>relationship</th>\n",
       "    </tr>\n",
       "  </thead>\n",
       "  <tbody>\n",
       "    <tr>\n",
       "      <th>0</th>\n",
       "      <td>Abigail Adams</td>\n",
       "      <td>Isaac Jr. Smith</td>\n",
       "      <td>Letter_To</td>\n",
       "    </tr>\n",
       "    <tr>\n",
       "      <th>1</th>\n",
       "      <td>Abigail Adams</td>\n",
       "      <td>John Adams</td>\n",
       "      <td>Letter_To</td>\n",
       "    </tr>\n",
       "    <tr>\n",
       "      <th>2</th>\n",
       "      <td>Abigail Adams</td>\n",
       "      <td>John Adams</td>\n",
       "      <td>Letter_To</td>\n",
       "    </tr>\n",
       "    <tr>\n",
       "      <th>3</th>\n",
       "      <td>Abigail Adams</td>\n",
       "      <td>Cotton Tufts</td>\n",
       "      <td>Letter_To</td>\n",
       "    </tr>\n",
       "    <tr>\n",
       "      <th>4</th>\n",
       "      <td>Abigail Adams</td>\n",
       "      <td>John Adams</td>\n",
       "      <td>Letter_To</td>\n",
       "    </tr>\n",
       "    <tr>\n",
       "      <th>...</th>\n",
       "      <td>...</td>\n",
       "      <td>...</td>\n",
       "      <td>...</td>\n",
       "    </tr>\n",
       "    <tr>\n",
       "      <th>97</th>\n",
       "      <td>Abigail Adams</td>\n",
       "      <td>John Adams</td>\n",
       "      <td>Letter_To</td>\n",
       "    </tr>\n",
       "    <tr>\n",
       "      <th>98</th>\n",
       "      <td>Abigail Adams</td>\n",
       "      <td>John Adams</td>\n",
       "      <td>Letter_To</td>\n",
       "    </tr>\n",
       "    <tr>\n",
       "      <th>99</th>\n",
       "      <td>Abigail Adams</td>\n",
       "      <td>John Adams</td>\n",
       "      <td>Letter_To</td>\n",
       "    </tr>\n",
       "    <tr>\n",
       "      <th>100</th>\n",
       "      <td>Abigail Adams</td>\n",
       "      <td>John Adams</td>\n",
       "      <td>Letter_To</td>\n",
       "    </tr>\n",
       "    <tr>\n",
       "      <th>101</th>\n",
       "      <td>Abigail Adams</td>\n",
       "      <td>John Adams</td>\n",
       "      <td>Letter_To</td>\n",
       "    </tr>\n",
       "  </tbody>\n",
       "</table>\n",
       "<p>102 rows × 3 columns</p>\n",
       "</div>"
      ],
      "text/plain": [
       "            source           target relationship\n",
       "0    Abigail Adams  Isaac Jr. Smith    Letter_To\n",
       "1    Abigail Adams       John Adams    Letter_To\n",
       "2    Abigail Adams       John Adams    Letter_To\n",
       "3    Abigail Adams     Cotton Tufts    Letter_To\n",
       "4    Abigail Adams       John Adams    Letter_To\n",
       "..             ...              ...          ...\n",
       "97   Abigail Adams       John Adams    Letter_To\n",
       "98   Abigail Adams       John Adams    Letter_To\n",
       "99   Abigail Adams       John Adams    Letter_To\n",
       "100  Abigail Adams       John Adams    Letter_To\n",
       "101  Abigail Adams       John Adams    Letter_To\n",
       "\n",
       "[102 rows x 3 columns]"
      ]
     },
     "execution_count": 314,
     "metadata": {},
     "output_type": "execute_result"
    }
   ],
   "source": [
    "df = pd.DataFrame(connections, columns=[\"source\", \"target\", \"relationship\"])\n",
    "df"
   ]
  },
  {
   "cell_type": "code",
   "execution_count": 315,
   "id": "9c49b1b7-c475-4132-878b-3a88b1b84da4",
   "metadata": {},
   "outputs": [],
   "source": [
    "df.to_csv(\"../data/abigail_adams_network_strict.csv\", index=False)"
   ]
  },
  {
   "cell_type": "code",
   "execution_count": null,
   "id": "f148c135-d71e-4f43-bd28-2cc9b5b0ce07",
   "metadata": {},
   "outputs": [],
   "source": []
  },
  {
   "cell_type": "code",
   "execution_count": null,
   "id": "8512dd69-0774-46f5-b59b-bc0a45ea0071",
   "metadata": {},
   "outputs": [],
   "source": []
  },
  {
   "cell_type": "markdown",
   "id": "eca42822",
   "metadata": {},
   "source": [
    "# Exercises\n",
    "\n",
    "`I know we covered a lot in this notebook and the best way to understand its contents in depth is to apply it to your own domain, or area of expertise. I encourage you to select a text (or texts) that you use in your own research and try to apply the methods covered in this notebook to those particular texts. I would highly encourage you to do this before moving on to the next notebook.`"
   ]
  },
  {
   "cell_type": "markdown",
   "id": "227a6d92",
   "metadata": {},
   "source": [
    "recipients"
   ]
  },
  {
   "cell_type": "code",
   "execution_count": null,
   "id": "1b37ed73-97ab-46d2-be86-c927cbd7c991",
   "metadata": {},
   "outputs": [],
   "source": []
  },
  {
   "cell_type": "code",
   "execution_count": null,
   "id": "60eb9acf-96b2-4980-b74f-8677bb8046ba",
   "metadata": {},
   "outputs": [],
   "source": []
  }
 ],
 "metadata": {
  "kernelspec": {
   "display_name": "Python 3 (ipykernel)",
   "language": "python",
   "name": "python3"
  },
  "language_info": {
   "codemirror_mode": {
    "name": "ipython",
    "version": 3
   },
   "file_extension": ".py",
   "mimetype": "text/x-python",
   "name": "python",
   "nbconvert_exporter": "python",
   "pygments_lexer": "ipython3",
   "version": "3.8.5"
  },
  "toc": {
   "base_numbering": 1,
   "nav_menu": {},
   "number_sections": true,
   "sideBar": true,
   "skip_h1_title": false,
   "title_cell": "Table of Contents",
   "title_sidebar": "Contents",
   "toc_cell": false,
   "toc_position": {},
   "toc_section_display": true,
   "toc_window_display": true
  }
 },
 "nbformat": 4,
 "nbformat_minor": 5
}

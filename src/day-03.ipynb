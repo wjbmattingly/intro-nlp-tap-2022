{
 "cells": [
  {
   "cell_type": "markdown",
   "id": "3e89c5b3",
   "metadata": {},
   "source": [
    "<img align=\"left\" src=\"https://ithaka-labs.s3.amazonaws.com/static-files/images/tdm/tdmdocs/tapi-logo-small.png\" />\n",
    "\n",
    "This notebook free for educational reuse under [Creative Commons CC BY License](https://creativecommons.org/licenses/by/4.0/).\n",
    "\n",
    "Created by [Firstname Lastname](https://) for the 2022 Text Analysis Pedagogy Institute, with support from the [National Endowment for the Humanities](https://neh.gov), [JSTOR Labs](https://labs.jstor.org/), and [University of Arizona Libraries](https://new.library.arizona.edu/).\n",
    "\n",
    "For questions/comments/improvements, email author@email.address.<br />\n",
    "____"
   ]
  },
  {
   "cell_type": "markdown",
   "id": "68f932d1",
   "metadata": {},
   "source": [
    "# `NLP with spaCy` `3`\n",
    "\n",
    "This is lesson `3` of 3 in the educational series on `Natural Language Processing (NLP)`. This notebook is intended `to teach the basics of NLP and the spaCy library.`. \n",
    "\n",
    "**Audience:** `Teachers` / `Learners` / `Researchers`\n",
    "\n",
    "**Use case:** `Tutorial`\n",
    "\n",
    "`Include the use case definition from [here](https://constellate.org/docs/documentation-categories)`\n",
    "\n",
    "**Difficulty:** `Beginner`\n",
    "\n",
    "`Beginner assumes users are relatively new to Python and Jupyter Notebooks. The user is helped step-by-step with lots of explanatory text.`\n",
    "\n",
    "`Intermediate assumes users are familiar with Python and have been programming for 6+ months. Code makes up a larger part of the notebook and basic concepts related to Python are not explained.`\n",
    "\n",
    "`Advanced assumes users are very familiar with Python and have been programming for years, but they may not be familiar with the process being explained.`\n",
    "\n",
    "**Completion time:** `90 minutes`\n",
    "\n",
    "**Knowledge Required:** \n",
    "```\n",
    "* Python basics (variables, flow control, functions, lists, dictionaries)\n",
    "```\n",
    "\n",
    "**Knowledge Recommended:**\n",
    "```\n",
    "* Basic file operations (open, close, read, write)\n",
    "```\n",
    "\n",
    "**Learning Objectives:**\n",
    "After this lesson, learners will be able to:\n",
    "```\n",
    "1. Understand how to solve an NLP problem, specifically information extraction\n",
    "2. Understand how to find data\n",
    "3. Understand how to structure data\n",
    "4. Understand how to develop a spaCy Pipeline\n",
    "```\n",
    "**Research Pipeline:**\n",
    "```\n",
    "N/A\n",
    "```\n",
    "___"
   ]
  },
  {
   "cell_type": "markdown",
   "id": "157c0555",
   "metadata": {},
   "source": [
    "# Required Python Libraries\n",
    "`List out any libraries used and what they are used for`\n",
    "* [spaCy](https://spacy.io/) for performing [Natural Language Processing (NLP)](https://docs.constellate.org/key-terms/#nlp).\n",
    "\n",
    "## Install Required Libraries"
   ]
  },
  {
   "cell_type": "code",
   "execution_count": 1,
   "id": "e8a220f5",
   "metadata": {},
   "outputs": [
    {
     "name": "stdout",
     "output_type": "stream",
     "text": [
      "Requirement already satisfied: spacy in c:\\users\\wma22\\anaconda3\\lib\\site-packages (3.3.0)\n",
      "Requirement already satisfied: spacy-loggers<2.0.0,>=1.0.0 in c:\\users\\wma22\\anaconda3\\lib\\site-packages (from spacy) (1.0.2)\n",
      "Requirement already satisfied: preshed<3.1.0,>=3.0.2 in c:\\users\\wma22\\anaconda3\\lib\\site-packages (from spacy) (3.0.6)\n",
      "Requirement already satisfied: tqdm<5.0.0,>=4.38.0 in c:\\users\\wma22\\anaconda3\\lib\\site-packages (from spacy) (4.64.0)\n",
      "Requirement already satisfied: typer<0.5.0,>=0.3.0 in c:\\users\\wma22\\anaconda3\\lib\\site-packages (from spacy) (0.3.2)\n",
      "Requirement already satisfied: requests<3.0.0,>=2.13.0 in c:\\users\\wma22\\anaconda3\\lib\\site-packages (from spacy) (2.27.1)\n",
      "Requirement already satisfied: catalogue<2.1.0,>=2.0.6 in c:\\users\\wma22\\anaconda3\\lib\\site-packages (from spacy) (2.0.6)\n",
      "Requirement already satisfied: srsly<3.0.0,>=2.4.3 in c:\\users\\wma22\\anaconda3\\lib\\site-packages (from spacy) (2.4.3)\n",
      "Requirement already satisfied: wasabi<1.1.0,>=0.9.1 in c:\\users\\wma22\\anaconda3\\lib\\site-packages (from spacy) (0.9.1)\n",
      "Requirement already satisfied: murmurhash<1.1.0,>=0.28.0 in c:\\users\\wma22\\anaconda3\\lib\\site-packages (from spacy) (1.0.6)\n",
      "Requirement already satisfied: pydantic!=1.8,!=1.8.1,<1.9.0,>=1.7.4 in c:\\users\\wma22\\anaconda3\\lib\\site-packages (from spacy) (1.8.2)\n",
      "Requirement already satisfied: blis<0.8.0,>=0.4.0 in c:\\users\\wma22\\anaconda3\\lib\\site-packages (from spacy) (0.7.7)\n",
      "Requirement already satisfied: jinja2 in c:\\users\\wma22\\anaconda3\\lib\\site-packages (from spacy) (3.0.3)\n",
      "Requirement already satisfied: setuptools in c:\\users\\wma22\\anaconda3\\lib\\site-packages (from spacy) (62.1.0)\n",
      "Requirement already satisfied: langcodes<4.0.0,>=3.2.0 in c:\\users\\wma22\\anaconda3\\lib\\site-packages (from spacy) (3.3.0)\n",
      "Requirement already satisfied: numpy>=1.15.0 in c:\\users\\wma22\\anaconda3\\lib\\site-packages (from spacy) (1.21.5)\n",
      "Requirement already satisfied: thinc<8.1.0,>=8.0.14 in c:\\users\\wma22\\anaconda3\\lib\\site-packages (from spacy) (8.0.17)\n",
      "Requirement already satisfied: pathy>=0.3.5 in c:\\users\\wma22\\anaconda3\\lib\\site-packages (from spacy) (0.6.1)\n",
      "Requirement already satisfied: spacy-legacy<3.1.0,>=3.0.9 in c:\\users\\wma22\\anaconda3\\lib\\site-packages (from spacy) (3.0.9)\n",
      "Requirement already satisfied: cymem<2.1.0,>=2.0.2 in c:\\users\\wma22\\anaconda3\\lib\\site-packages (from spacy) (2.0.6)\n",
      "Requirement already satisfied: packaging>=20.0 in c:\\users\\wma22\\anaconda3\\lib\\site-packages (from spacy) (21.3)\n",
      "Requirement already satisfied: pyparsing!=3.0.5,>=2.0.2 in c:\\users\\wma22\\anaconda3\\lib\\site-packages (from packaging>=20.0->spacy) (3.0.8)\n",
      "Requirement already satisfied: smart-open<6.0.0,>=5.0.0 in c:\\users\\wma22\\anaconda3\\lib\\site-packages (from pathy>=0.3.5->spacy) (5.2.1)\n",
      "Requirement already satisfied: typing-extensions>=3.7.4.3 in c:\\users\\wma22\\anaconda3\\lib\\site-packages (from pydantic!=1.8,!=1.8.1,<1.9.0,>=1.7.4->spacy) (4.2.0)\n",
      "Requirement already satisfied: certifi>=2017.4.17 in c:\\users\\wma22\\anaconda3\\lib\\site-packages (from requests<3.0.0,>=2.13.0->spacy) (2022.5.18.1)\n",
      "Requirement already satisfied: charset-normalizer~=2.0.0 in c:\\users\\wma22\\anaconda3\\lib\\site-packages (from requests<3.0.0,>=2.13.0->spacy) (2.0.12)\n",
      "Requirement already satisfied: urllib3<1.27,>=1.21.1 in c:\\users\\wma22\\anaconda3\\lib\\site-packages (from requests<3.0.0,>=2.13.0->spacy) (1.26.9)\n",
      "Requirement already satisfied: idna<4,>=2.5 in c:\\users\\wma22\\anaconda3\\lib\\site-packages (from requests<3.0.0,>=2.13.0->spacy) (3.3)\n",
      "Requirement already satisfied: colorama in c:\\users\\wma22\\anaconda3\\lib\\site-packages (from tqdm<5.0.0,>=4.38.0->spacy) (0.4.4)\n",
      "Requirement already satisfied: click<7.2.0,>=7.1.1 in c:\\users\\wma22\\anaconda3\\lib\\site-packages (from typer<0.5.0,>=0.3.0->spacy) (7.1.2)\n",
      "Requirement already satisfied: MarkupSafe>=2.0 in c:\\users\\wma22\\anaconda3\\lib\\site-packages (from jinja2->spacy) (2.1.1)\n"
     ]
    },
    {
     "name": "stderr",
     "output_type": "stream",
     "text": [
      "WARNING: Ignoring invalid distribution -illow (c:\\users\\wma22\\anaconda3\\lib\\site-packages)\n",
      "WARNING: Ignoring invalid distribution -illow (c:\\users\\wma22\\anaconda3\\lib\\site-packages)\n",
      "WARNING: Ignoring invalid distribution -illow (c:\\users\\wma22\\anaconda3\\lib\\site-packages)\n",
      "WARNING: Ignoring invalid distribution -illow (c:\\users\\wma22\\anaconda3\\lib\\site-packages)\n",
      "WARNING: Ignoring invalid distribution -illow (c:\\users\\wma22\\anaconda3\\lib\\site-packages)\n",
      "WARNING: Ignoring invalid distribution -illow (c:\\users\\wma22\\anaconda3\\lib\\site-packages)\n"
     ]
    }
   ],
   "source": [
    "### Install Libraries ###\n",
    "\n",
    "# Using !pip installs\n",
    "!pip install spacy\n",
    "!python -m spacy download en_core_web_sm\n",
    "# Using %%bash magic with apt-get and yes prompt"
   ]
  },
  {
   "cell_type": "code",
   "execution_count": 1,
   "id": "5480e2a8",
   "metadata": {},
   "outputs": [],
   "source": [
    "### Import Libraries ###\n",
    "import spacy"
   ]
  },
  {
   "cell_type": "markdown",
   "id": "f53edaa2",
   "metadata": {},
   "source": [
    "# Introduction\n",
    "\n",
    "```\n",
    "Introduce the lesson topic. Answer questions such as:\n",
    "* Why is it useful? \n",
    "* Why should we learn it? \n",
    "* Who might use it? \n",
    "* Where has it been used by scholars/industry?\n",
    "* What do we need to do it?\n",
    "* What subjects are included in the notebooks?\n",
    "* What is not in this notebook? Where should we look for it?\n",
    "```"
   ]
  },
  {
   "cell_type": "markdown",
   "id": "78ccf88c-edcb-4417-ae51-fc9e981f8fa3",
   "metadata": {},
   "source": [
    "# Introductory Material: The spaCy EntityRuler\n",
    "\n",
    "The Python library spaCy offers a few different methods for performing rules-based NER. One such method is via its EntityRuler.\n",
    "\n",
    "The **EntityRuler** is a spaCy factory that allows one to create a set of patterns with corresponding labels. A **factory** in spaCy is a set of classes and functions preloaded in spaCy that perform set tasks. In the case of the EntityRuler, the factory at hand allows the user to create an EntityRuler, give it a set of instructions, and then use this instructions to find and label entities.\n",
    "\n",
    "Once the user has created the EntityRuler and given it a set of instructions, the user can then add it to the spaCy pipeline as a new pipe. I have spoken in the past notebooks briefly about pipes, but perhaps it is good to address them in more detail here.\n",
    "\n",
    "A **pipe** is a component of a **pipeline**. A pipeline's purpose is to take input data, perform some sort of operations on that input data, and then output those operations either as a new data or extracted metadata. A pipe is an individual component of a pipeline. In the case of spaCy, there are a few different pipes that perform different tasks. The tokenizer, tokenizes the text into individual tokens; the parser, parses the text, and the NER identifies entities and labels them accordingly. All of this data is stored in the Doc object as we saw in Notebook 01_01 of this series.\n",
    "\n",
    "It is important to remember that pipelines are sequential. This means that components earlier in a pipeline affect what later components receive. Sometimes this sequence is essential, meaning later pipes depend on earlier pipes. At other times, this sequence is not essential, meaning later pipes can function without earlier pipes. It is important to keep this in mind as you create custom spaCy models (or any pipeline for that matter).\n",
    "\n",
    "In this notebook, we will be looking closely at the EntityRuler as a component of a spaCy model's pipeline. Off-the-shelf spaCy models come preloaded with an NER model; they do not, however, come with an EntityRuler. In order to incorperate an EntityRuler into a spaCy model, it must be created as a new pipe, given instructions, and then added to the model. Once this is complete, the user can save that new model with the EntityRuler to the disk.\n",
    "\n",
    "The full documentation of spaCy EntityRuler can be found here: https://spacy.io/api/entityruler .\n",
    "\n",
    "This notebook with synthesize this documentation for non-specialists and provide some examples of it in action."
   ]
  },
  {
   "cell_type": "markdown",
   "id": "543bc070-aef5-4dd1-95cc-7b9cf2f61261",
   "metadata": {},
   "source": [
    "## Demonstration of EntityRuler in Action"
   ]
  },
  {
   "cell_type": "markdown",
   "id": "38d92894-4f81-4068-b4c2-2740c6987a19",
   "metadata": {},
   "source": [
    "In the code below, we will introduce a new pipe into spaCy's off-the-shelf small English model. The purpose of this EntityRuler will be to identify small villages in Poland correctly."
   ]
  },
  {
   "cell_type": "code",
   "execution_count": 4,
   "id": "8b401b57-19ad-43f1-ad8d-e8e66fb1eba1",
   "metadata": {},
   "outputs": [
    {
     "name": "stdout",
     "output_type": "stream",
     "text": [
      "Poland GPE\n"
     ]
    }
   ],
   "source": [
    "#Build upon the spaCy Small Model\n",
    "nlp = spacy.load(\"en_core_web_sm\")\n",
    "\n",
    "#Sample text\n",
    "text = \"The village of Treblinka is in Poland. Treblinka was also an extermination camp.\"\n",
    "\n",
    "#Create the Doc object\n",
    "doc = nlp(text)\n",
    "\n",
    "#extract entities\n",
    "for ent in doc.ents:\n",
    "    print (ent.text, ent.label_)"
   ]
  },
  {
   "cell_type": "markdown",
   "id": "f1eea630-55bf-4e3c-826e-ccdf89b0c7ba",
   "metadata": {},
   "source": [
    "*Depending on the version of model you are using, some results may vary.*\n",
    "\n",
    "The output from the code above demonstrates spaCy's small model's to identify Treblinka, which is a small village in Poland. As the sample text indicates, it was also an extermination camp during WWII. In the first sentence, the spaCy model tagged Treblinka as an LOC (location) and in the second it was missed entirely. Both are either imprecise or wrong. I would have accepted ORG for the second sentence, as spaCy's model does not know how to classify an extermination camp, but what these results demonstrate is the model's failure to generalize on data. The reason? There are a few, but I suspect the model never encountered the word Treblinka.\n",
    "\n",
    "This is a common problem in NLP for specific domains. Often times the domains in which we wish to deploy models, off-the-shelf models will fail because they have not been trained on domain-specific texts. We can resolve this, however, either via spaCy's EntityRuler or via training a new model. As we will see over the next few notebooks, we can use spaCy's EntityRuler to easily achieve both.\n",
    "\n",
    "For now, let's first remedy the issue by giving the model instructions for correctly identifying Treblinka. For simplicity, we will use spaCy's GPE label. In a later notebook, we will teach a model to correctly identify Treblinka in the latter context as a concentration camp."
   ]
  },
  {
   "cell_type": "code",
   "execution_count": 5,
   "id": "04b8de2a-759e-415c-ae36-f2b0386d959f",
   "metadata": {},
   "outputs": [
    {
     "name": "stdout",
     "output_type": "stream",
     "text": [
      "Treblinka GPE\n",
      "Poland GPE\n",
      "Treblinka GPE\n"
     ]
    }
   ],
   "source": [
    "#Import the requisite library\n",
    "import spacy\n",
    "\n",
    "#Build upon the spaCy Small Model\n",
    "nlp = spacy.load(\"en_core_web_sm\")\n",
    "\n",
    "#Sample text\n",
    "text = \"The village of Treblinka is in Poland. Treblinka was also an extermination camp.\"\n",
    "\n",
    "#Create the EntityRuler\n",
    "ruler = nlp.add_pipe(\"entity_ruler\")\n",
    "\n",
    "#List of Entities and Patterns\n",
    "patterns = [\n",
    "                {\"label\": \"GPE\", \"pattern\": \"Treblinka\"}\n",
    "            ]\n",
    "\n",
    "ruler.add_patterns(patterns)\n",
    "\n",
    "\n",
    "doc = nlp(text)\n",
    "\n",
    "#extract entities\n",
    "for ent in doc.ents:\n",
    "    print (ent.text, ent.label_)"
   ]
  },
  {
   "cell_type": "markdown",
   "id": "657d87b0-fbab-4702-9b59-c067cb587394",
   "metadata": {},
   "source": [
    "If you executed the code above and found that you had the same output, then you did everything correctly. This method has failed. Why? The answer comes back to the concept of pipelines. We created and added the EntityRuler to the spaCy model's pipeline, but by default, spaCy add's a new pipe to the end of the pipeline. In order to visualize the pipeline, let's use spaCy's analyze_pipes()."
   ]
  },
  {
   "cell_type": "code",
   "execution_count": 6,
   "id": "158eb7d3-14db-44b2-9387-dfba71925164",
   "metadata": {},
   "outputs": [
    {
     "data": {
      "text/plain": [
       "{'summary': {'tok2vec': {'assigns': ['doc.tensor'],\n",
       "   'requires': [],\n",
       "   'scores': [],\n",
       "   'retokenizes': False},\n",
       "  'tagger': {'assigns': ['token.tag'],\n",
       "   'requires': [],\n",
       "   'scores': ['tag_acc'],\n",
       "   'retokenizes': False},\n",
       "  'parser': {'assigns': ['token.dep',\n",
       "    'token.head',\n",
       "    'token.is_sent_start',\n",
       "    'doc.sents'],\n",
       "   'requires': [],\n",
       "   'scores': ['dep_uas',\n",
       "    'dep_las',\n",
       "    'dep_las_per_type',\n",
       "    'sents_p',\n",
       "    'sents_r',\n",
       "    'sents_f'],\n",
       "   'retokenizes': False},\n",
       "  'attribute_ruler': {'assigns': [],\n",
       "   'requires': [],\n",
       "   'scores': [],\n",
       "   'retokenizes': False},\n",
       "  'lemmatizer': {'assigns': ['token.lemma'],\n",
       "   'requires': [],\n",
       "   'scores': ['lemma_acc'],\n",
       "   'retokenizes': False},\n",
       "  'ner': {'assigns': ['doc.ents', 'token.ent_iob', 'token.ent_type'],\n",
       "   'requires': [],\n",
       "   'scores': ['ents_f', 'ents_p', 'ents_r', 'ents_per_type'],\n",
       "   'retokenizes': False},\n",
       "  'entity_ruler': {'assigns': ['doc.ents', 'token.ent_type', 'token.ent_iob'],\n",
       "   'requires': [],\n",
       "   'scores': ['ents_f', 'ents_p', 'ents_r', 'ents_per_type'],\n",
       "   'retokenizes': False}},\n",
       " 'problems': {'tok2vec': [],\n",
       "  'tagger': [],\n",
       "  'parser': [],\n",
       "  'attribute_ruler': [],\n",
       "  'lemmatizer': [],\n",
       "  'ner': [],\n",
       "  'entity_ruler': []},\n",
       " 'attrs': {'token.lemma': {'assigns': ['lemmatizer'], 'requires': []},\n",
       "  'doc.sents': {'assigns': ['parser'], 'requires': []},\n",
       "  'token.head': {'assigns': ['parser'], 'requires': []},\n",
       "  'doc.tensor': {'assigns': ['tok2vec'], 'requires': []},\n",
       "  'token.ent_iob': {'assigns': ['ner', 'entity_ruler'], 'requires': []},\n",
       "  'token.is_sent_start': {'assigns': ['parser'], 'requires': []},\n",
       "  'doc.ents': {'assigns': ['ner', 'entity_ruler'], 'requires': []},\n",
       "  'token.dep': {'assigns': ['parser'], 'requires': []},\n",
       "  'token.tag': {'assigns': ['tagger'], 'requires': []},\n",
       "  'token.ent_type': {'assigns': ['ner', 'entity_ruler'], 'requires': []}}}"
      ]
     },
     "execution_count": 6,
     "metadata": {},
     "output_type": "execute_result"
    }
   ],
   "source": [
    "nlp.analyze_pipes()"
   ]
  },
  {
   "cell_type": "markdown",
   "id": "f53e72fa-0551-4116-bd25-91afddae8ff4",
   "metadata": {},
   "source": [
    "This can be a bit difficult to read at first, but what it shows us is the order in which our pipes are set up and a few other key pieces of information about each pipe. If we locate \"ner\", we notice that \"entity_ruler\" sits behind it.\n",
    "\n",
    "In order for our EntityRuler to have primacy, we have to assign it to after the \"ner\" pipe, as the example below shows in this line:\n",
    "\n",
    "ruler = nlp.add_pipe(\"entity_ruler\", **after=\"ner\"**)"
   ]
  },
  {
   "cell_type": "code",
   "execution_count": 7,
   "id": "d2bc8b62-be74-4fc9-84ec-0b2a30e4042a",
   "metadata": {},
   "outputs": [
    {
     "name": "stdout",
     "output_type": "stream",
     "text": [
      "Treblinka GPE\n",
      "Poland GPE\n",
      "Treblinka GPE\n"
     ]
    }
   ],
   "source": [
    "#Build upon the spaCy Small Model\n",
    "nlp = spacy.load(\"en_core_web_sm\")\n",
    "\n",
    "#Sample text\n",
    "text = \"The village of Treblinka is in Poland. Treblinka was also an extermination camp.\"\n",
    "\n",
    "#Create the EntityRuler\n",
    "ruler = nlp.add_pipe(\"entity_ruler\", after=\"ner\")\n",
    "\n",
    "#List of Entities and Patterns\n",
    "patterns = [\n",
    "                {\"label\": \"GPE\", \"pattern\": \"Treblinka\"}\n",
    "            ]\n",
    "\n",
    "ruler.add_patterns(patterns)\n",
    "\n",
    "\n",
    "doc = nlp(text)\n",
    "\n",
    "#extract entities\n",
    "for ent in doc.ents:\n",
    "    print (ent.text, ent.label_)"
   ]
  },
  {
   "cell_type": "markdown",
   "id": "9cfe6567-74e3-4933-8aac-48ea4f18f468",
   "metadata": {},
   "source": [
    "Notice now that our EntityRuler is functioning before the \"ner\" pipe and is, therefore, prefinding entities and labeling them before the NER gets to them. Because it comes earlier in the pipeline, its metadata holds primacy over the later \"ner\" pipe."
   ]
  },
  {
   "cell_type": "markdown",
   "id": "cedff9ee-fa20-409d-aab8-0d8d62ed3b47",
   "metadata": {},
   "source": [
    "## Introducing Complex Rules and Variance to the EntityRuler (Advanced)"
   ]
  },
  {
   "cell_type": "markdown",
   "id": "41df8b71-65b7-4f3f-863f-fa15ff43d07f",
   "metadata": {},
   "source": [
    "In some instances, labels may have a set type of variance that follow a distinct pattern or sets of patterns. One such example (included in the spaCy documentation) is phone numbers. In the United States, phone numbers have a few forms. The standard formal method is (xxx)-xxx-xxxx, but it is not uncommon to see xxx-xxx-xxxx or xxxxxxxxxx. If the owner of the phone number is giving that same number to someone outside the US, then +1(xxx)-xxx-xxxx.\n",
    "\n",
    "If you are working within a United States domain, you can pass RegEx formulas to the pattern matcher to grab all of these instances.\n",
    "\n",
    "The spaCy EntityRuler also allows the user to introduce a variety of complex rules and variances (via, among other things, RegEx) by passing the rules to the pattern. There are many arguments that one can pass to the patterns. For a complete list, see: https://spacy.io/usage/rule-based-matching . To expiremnet with how these work, I recommend using the spaCy Matcher demo: https://explosion.ai/demos/matcher .\n",
    "\n",
    "In the example below we work with one example from the spaCy documentation in which we extract a phone number from a text. This same task can be done via RegEx as well."
   ]
  },
  {
   "cell_type": "code",
   "execution_count": 8,
   "id": "98d30190-870a-4cb3-8f70-0b9c281dff7f",
   "metadata": {},
   "outputs": [
    {
     "name": "stdout",
     "output_type": "stream",
     "text": [
      "(555) 555-5555 PHONE_NUMBER\n"
     ]
    }
   ],
   "source": [
    "#Sample text\n",
    "text = \"This is a sample number (555) 555-5555.\"\n",
    "\n",
    "#Build upon the spaCy Small Model\n",
    "nlp = spacy.blank(\"en\")\n",
    "\n",
    "#Create the Ruler and Add it\n",
    "ruler = nlp.add_pipe(\"entity_ruler\")\n",
    "\n",
    "#List of Entities and Patterns (source: https://spacy.io/usage/rule-based-matching)\n",
    "patterns = [\n",
    "                {\"label\": \"PHONE_NUMBER\", \"pattern\": [{\"ORTH\": \"(\"}, {\"SHAPE\": \"ddd\"}, {\"ORTH\": \")\"}, {\"SHAPE\": \"ddd\"},\n",
    "                {\"ORTH\": \"-\", \"OP\": \"?\"}, {\"SHAPE\": \"dddd\"}]}\n",
    "            ]\n",
    "#add patterns to ruler\n",
    "ruler.add_patterns(patterns)\n",
    "\n",
    "\n",
    "\n",
    "#create the doc\n",
    "doc = nlp(text)\n",
    "\n",
    "#extract entities\n",
    "for ent in doc.ents:\n",
    "    print (ent.text, ent.label_)"
   ]
  },
  {
   "cell_type": "markdown",
   "id": "b4b12a24-dd04-429c-99e7-194ac98fe10c",
   "metadata": {},
   "source": [
    "# Part One: The Problem"
   ]
  },
  {
   "cell_type": "markdown",
   "id": "2ece6609-a056-4bae-99d6-1064e59c30bf",
   "metadata": {},
   "source": [
    "Imagine you are a librarian or archivist at an R1 Institution. A researcher at the university has asked if it would be possible to grab all the letters written by Abigail Adams in the Founders Online database.\n",
    "\n",
    "The researcher would also like for you to keep the metadata intact so that the researcher can understand to whom Abigail Adams wrote and when. The researcher wants to also know whom Abigail Adams references within these letters. The purpose of this project is to understand the epistolary network of Abigail Adams. All of this will be used to understand more broadly Abigail Adams' social network.\n",
    "\n",
    "Finally, the researcher has some gender-based questions about the data and being able to identify and extract specific gendered words (which they have provided in data/gen_ref_ files).\n",
    "\n",
    "Your job is to create a heuristic, or rules-based, pipeline with spaCy to solve this problem.\n",
    "\n",
    "This is a real-world problem that requires several different Python skills to solve programmatically. Since this tutorial is designed around NLP, we will be focusing on the NLP portions of this workflow. Nevertheless, I will detail in Part Two, how to gather the requisite data. I will not, however, explain the code in depth as it involves web-scrapping beyond the scope of this tutorial."
   ]
  },
  {
   "cell_type": "markdown",
   "id": "6fd09930-c414-4ec8-aa6c-052f57b29dac",
   "metadata": {},
   "source": [
    "# Part Two: Gathering the Data"
   ]
  },
  {
   "cell_type": "code",
   "execution_count": 50,
   "id": "742daa44-9a9b-45a9-81a0-0df60e4d0854",
   "metadata": {},
   "outputs": [],
   "source": [
    "import pandas as pd\n",
    "import ast\n",
    "import requests\n",
    "from bs4 import BeautifulSoup\n",
    "import json\n",
    "from spacy import displacy\n",
    "import re"
   ]
  },
  {
   "cell_type": "markdown",
   "id": "27c882cd-1a3d-4e58-872d-e2acbba646b8",
   "metadata": {},
   "source": [
    "## Analyze Founders Online Data"
   ]
  },
  {
   "cell_type": "code",
   "execution_count": 3,
   "id": "526b502f-24f0-4efb-8339-ea72258e3fa5",
   "metadata": {},
   "outputs": [],
   "source": [
    "df = pd.read_json(\"../data/founders-online-metadata.json\")"
   ]
  },
  {
   "cell_type": "code",
   "execution_count": 4,
   "id": "93922a42-365c-4883-bc82-f2cf97557e22",
   "metadata": {},
   "outputs": [
    {
     "data": {
      "text/html": [
       "<div>\n",
       "<style scoped>\n",
       "    .dataframe tbody tr th:only-of-type {\n",
       "        vertical-align: middle;\n",
       "    }\n",
       "\n",
       "    .dataframe tbody tr th {\n",
       "        vertical-align: top;\n",
       "    }\n",
       "\n",
       "    .dataframe thead th {\n",
       "        text-align: right;\n",
       "    }\n",
       "</style>\n",
       "<table border=\"1\" class=\"dataframe\">\n",
       "  <thead>\n",
       "    <tr style=\"text-align: right;\">\n",
       "      <th></th>\n",
       "      <th>title</th>\n",
       "      <th>permalink</th>\n",
       "      <th>project</th>\n",
       "      <th>authors</th>\n",
       "      <th>recipients</th>\n",
       "      <th>date-from</th>\n",
       "      <th>date-to</th>\n",
       "    </tr>\n",
       "  </thead>\n",
       "  <tbody>\n",
       "    <tr>\n",
       "      <th>0</th>\n",
       "      <td>November 18th. 1755.</td>\n",
       "      <td>https://founders.archives.gov/documents/Adams/...</td>\n",
       "      <td>Adams Papers</td>\n",
       "      <td>[Adams, John]</td>\n",
       "      <td>[]</td>\n",
       "      <td>1755-11-18</td>\n",
       "      <td>1755-11-18</td>\n",
       "    </tr>\n",
       "    <tr>\n",
       "      <th>1</th>\n",
       "      <td>[November 1755]</td>\n",
       "      <td>https://founders.archives.gov/documents/Adams/...</td>\n",
       "      <td>Adams Papers</td>\n",
       "      <td>[Adams, John]</td>\n",
       "      <td>[]</td>\n",
       "      <td>1755-11-18</td>\n",
       "      <td>1755-11-18</td>\n",
       "    </tr>\n",
       "    <tr>\n",
       "      <th>2</th>\n",
       "      <td>January the 14th. 1756.</td>\n",
       "      <td>https://founders.archives.gov/documents/Adams/...</td>\n",
       "      <td>Adams Papers</td>\n",
       "      <td>[Adams, John]</td>\n",
       "      <td>[]</td>\n",
       "      <td>1756-01-14</td>\n",
       "      <td>1756-01-14</td>\n",
       "    </tr>\n",
       "    <tr>\n",
       "      <th>3</th>\n",
       "      <td>15.</td>\n",
       "      <td>https://founders.archives.gov/documents/Adams/...</td>\n",
       "      <td>Adams Papers</td>\n",
       "      <td>[Adams, John]</td>\n",
       "      <td>[]</td>\n",
       "      <td>1756-01-15</td>\n",
       "      <td>1756-01-15</td>\n",
       "    </tr>\n",
       "    <tr>\n",
       "      <th>4</th>\n",
       "      <td>16 Fryday.</td>\n",
       "      <td>https://founders.archives.gov/documents/Adams/...</td>\n",
       "      <td>Adams Papers</td>\n",
       "      <td>[Adams, John]</td>\n",
       "      <td>[]</td>\n",
       "      <td>1756-01-16</td>\n",
       "      <td>1756-01-16</td>\n",
       "    </tr>\n",
       "    <tr>\n",
       "      <th>...</th>\n",
       "      <td>...</td>\n",
       "      <td>...</td>\n",
       "      <td>...</td>\n",
       "      <td>...</td>\n",
       "      <td>...</td>\n",
       "      <td>...</td>\n",
       "      <td>...</td>\n",
       "    </tr>\n",
       "    <tr>\n",
       "      <th>185311</th>\n",
       "      <td>To Thomas Jefferson from John Barnes, 3 March ...</td>\n",
       "      <td>https://founders.archives.gov/documents/Jeffer...</td>\n",
       "      <td>Jefferson Papers</td>\n",
       "      <td>[Barnes, John]</td>\n",
       "      <td>[Jefferson, Thomas]</td>\n",
       "      <td>1809-03-03</td>\n",
       "      <td>1809-03-03</td>\n",
       "    </tr>\n",
       "    <tr>\n",
       "      <th>185312</th>\n",
       "      <td>To Thomas Jefferson from John Benson, 3 March ...</td>\n",
       "      <td>https://founders.archives.gov/documents/Jeffer...</td>\n",
       "      <td>Jefferson Papers</td>\n",
       "      <td>[Benson, John]</td>\n",
       "      <td>[Jefferson, Thomas]</td>\n",
       "      <td>1809-03-03</td>\n",
       "      <td>1809-03-03</td>\n",
       "    </tr>\n",
       "    <tr>\n",
       "      <th>185313</th>\n",
       "      <td>To Thomas Jefferson from William Matthews, 3 M...</td>\n",
       "      <td>https://founders.archives.gov/documents/Jeffer...</td>\n",
       "      <td>Jefferson Papers</td>\n",
       "      <td>[Matthews, William]</td>\n",
       "      <td>[Jefferson, Thomas]</td>\n",
       "      <td>1809-03-03</td>\n",
       "      <td>1809-03-03</td>\n",
       "    </tr>\n",
       "    <tr>\n",
       "      <th>185314</th>\n",
       "      <td>To Thomas Jefferson from Thomas Moore, 3 March...</td>\n",
       "      <td>https://founders.archives.gov/documents/Jeffer...</td>\n",
       "      <td>Jefferson Papers</td>\n",
       "      <td>[Moore, Thomas]</td>\n",
       "      <td>[Jefferson, Thomas]</td>\n",
       "      <td>1809-03-03</td>\n",
       "      <td>1809-03-03</td>\n",
       "    </tr>\n",
       "    <tr>\n",
       "      <th>185315</th>\n",
       "      <td>To Thomas Jefferson from Robert Wright, 3 Marc...</td>\n",
       "      <td>https://founders.archives.gov/documents/Jeffer...</td>\n",
       "      <td>Jefferson Papers</td>\n",
       "      <td>[Wright, Robert]</td>\n",
       "      <td>[Jefferson, Thomas]</td>\n",
       "      <td>1809-03-03</td>\n",
       "      <td>1809-03-03</td>\n",
       "    </tr>\n",
       "  </tbody>\n",
       "</table>\n",
       "<p>185316 rows × 7 columns</p>\n",
       "</div>"
      ],
      "text/plain": [
       "                                                    title  \\\n",
       "0                                    November 18th. 1755.   \n",
       "1                                         [November 1755]   \n",
       "2                                 January the 14th. 1756.   \n",
       "3                                                     15.   \n",
       "4                                              16 Fryday.   \n",
       "...                                                   ...   \n",
       "185311  To Thomas Jefferson from John Barnes, 3 March ...   \n",
       "185312  To Thomas Jefferson from John Benson, 3 March ...   \n",
       "185313  To Thomas Jefferson from William Matthews, 3 M...   \n",
       "185314  To Thomas Jefferson from Thomas Moore, 3 March...   \n",
       "185315  To Thomas Jefferson from Robert Wright, 3 Marc...   \n",
       "\n",
       "                                                permalink           project  \\\n",
       "0       https://founders.archives.gov/documents/Adams/...      Adams Papers   \n",
       "1       https://founders.archives.gov/documents/Adams/...      Adams Papers   \n",
       "2       https://founders.archives.gov/documents/Adams/...      Adams Papers   \n",
       "3       https://founders.archives.gov/documents/Adams/...      Adams Papers   \n",
       "4       https://founders.archives.gov/documents/Adams/...      Adams Papers   \n",
       "...                                                   ...               ...   \n",
       "185311  https://founders.archives.gov/documents/Jeffer...  Jefferson Papers   \n",
       "185312  https://founders.archives.gov/documents/Jeffer...  Jefferson Papers   \n",
       "185313  https://founders.archives.gov/documents/Jeffer...  Jefferson Papers   \n",
       "185314  https://founders.archives.gov/documents/Jeffer...  Jefferson Papers   \n",
       "185315  https://founders.archives.gov/documents/Jeffer...  Jefferson Papers   \n",
       "\n",
       "                    authors           recipients   date-from     date-to  \n",
       "0             [Adams, John]                   []  1755-11-18  1755-11-18  \n",
       "1             [Adams, John]                   []  1755-11-18  1755-11-18  \n",
       "2             [Adams, John]                   []  1756-01-14  1756-01-14  \n",
       "3             [Adams, John]                   []  1756-01-15  1756-01-15  \n",
       "4             [Adams, John]                   []  1756-01-16  1756-01-16  \n",
       "...                     ...                  ...         ...         ...  \n",
       "185311       [Barnes, John]  [Jefferson, Thomas]  1809-03-03  1809-03-03  \n",
       "185312       [Benson, John]  [Jefferson, Thomas]  1809-03-03  1809-03-03  \n",
       "185313  [Matthews, William]  [Jefferson, Thomas]  1809-03-03  1809-03-03  \n",
       "185314      [Moore, Thomas]  [Jefferson, Thomas]  1809-03-03  1809-03-03  \n",
       "185315     [Wright, Robert]  [Jefferson, Thomas]  1809-03-03  1809-03-03  \n",
       "\n",
       "[185316 rows x 7 columns]"
      ]
     },
     "execution_count": 4,
     "metadata": {},
     "output_type": "execute_result"
    }
   ],
   "source": [
    "df"
   ]
  },
  {
   "cell_type": "code",
   "execution_count": 5,
   "id": "c3606c3a-1bf7-4747-8d3a-51ff5d5baa2a",
   "metadata": {},
   "outputs": [
    {
     "name": "stdout",
     "output_type": "stream",
     "text": [
      "185316\n"
     ]
    }
   ],
   "source": [
    "# So we do not have to use Pandas syntax in this tutorial\n",
    "links = df.permalink.tolist()\n",
    "authors =  df.authors.tolist()\n",
    "recipients = df.recipients.tolist()\n",
    "date_from = df[\"date-from\"].tolist()\n",
    "date_to = df[\"date-to\"].tolist()\n",
    "print (len(authors))"
   ]
  },
  {
   "cell_type": "code",
   "execution_count": 7,
   "id": "a51552e4-84c1-4775-af2b-9fb881f79447",
   "metadata": {},
   "outputs": [
    {
     "name": "stdout",
     "output_type": "stream",
     "text": [
      "1238\n"
     ]
    }
   ],
   "source": [
    "final_data = []\n",
    "for l, a, r, dfrom, dto in zip(links, authors, recipients, date_from, date_to):\n",
    "    if \"Adams, Abigail\" in a:\n",
    "        final_data.append((l, a, r, dfrom, dto))\n",
    "print (len(final_data))"
   ]
  },
  {
   "cell_type": "code",
   "execution_count": 6,
   "id": "c65c880e-a780-42a1-8eb7-5d2364ceed74",
   "metadata": {},
   "outputs": [],
   "source": [
    "#Only execute this cell if you want to make 1238 calls to the Founders Online server.\n",
    "def scrape_founders():\n",
    "    texts = []\n",
    "    for link, author, recipient, date_from, date_to in final_data:\n",
    "        #must have a recipient, i.e. a letter\n",
    "        if recipient != []:\n",
    "\n",
    "            #calls the server\n",
    "            s = requests.get(link)\n",
    "\n",
    "            #convert the call request into a soup object to parse HTML\n",
    "\n",
    "            soup = BeautifulSoup(s.content)\n",
    "\n",
    "            #grabs the text\n",
    "            text = soup.find(\"div\", {\"class\": \"innerdiv docbody\"})\n",
    "\n",
    "            #removes the footnotes from the text\n",
    "            for i in text.find_all(\"a\"):\n",
    "                if 'class' in i.attrs:\n",
    "                    if \"ptr\" in i.attrs['class']:\n",
    "                        i.decompose()\n",
    "            #get some clean text from the p tags            \n",
    "            text = [p.text.strip() for p in text.find_all(\"p\")]\n",
    "\n",
    "            #bring the text together\n",
    "            text = \"\\n\".join(text)\n",
    "            data = {\"link\": link, \"author\": author, \"recipient\": recipient, \"date_from\": date_from, \"date_to\": date_to, \"text\": text}\n",
    "            texts.append(data)\n",
    "    print (len(texts))\n",
    "    with open (\"../data/adams_abigail_letters.json\", \"w\") as f:\n",
    "        json.dump(texts, f, indent=4)\n",
    "    return texts"
   ]
  },
  {
   "cell_type": "markdown",
   "id": "1a92444f-b9c2-4552-97c1-121899bf7fcd",
   "metadata": {},
   "source": [
    "# Part Three: NER Pipeline"
   ]
  },
  {
   "cell_type": "markdown",
   "id": "ecad441f-0462-42d5-ba82-9748d122dfdc",
   "metadata": {},
   "source": [
    "## Load in our Data"
   ]
  },
  {
   "cell_type": "code",
   "execution_count": 8,
   "id": "c0c3ac41-9652-459b-be01-d757835829de",
   "metadata": {},
   "outputs": [],
   "source": [
    "with open (\"../data/adams_abigail_letters.json\", \"r\") as f:\n",
    "    texts = json.load(f)"
   ]
  },
  {
   "cell_type": "code",
   "execution_count": 9,
   "id": "a0136ff4-cf76-4618-874b-d1c58387112e",
   "metadata": {},
   "outputs": [
    {
     "data": {
      "text/plain": [
       "{'link': 'https://founders.archives.gov/documents/Adams/04-01-02-0005',\n",
       " 'author': ['Adams, Abigail'],\n",
       " 'recipient': ['Smith, Isaac Jr.'],\n",
       " 'date_from': '1763-03-16',\n",
       " 'date_to': '1763-03-16',\n",
       " 'text': 'Weymouth March 16 1763\\nDear Cousin\\nTis no small pleasure to me, to hear of the great proficioncy you have made in the French tongue, A Tongue Sweet, and harmonious, a Tongue, useful to Merchants, to Statesmen; to Divines, and especially to Lawyers and Travellers; who by the help of it, may traverse the whole Globe; for in this respect, the French language is pretty much now, what I have heard the Latin formerly was, a universal tongue.\\nBy the favor of my Father I have had the pleasure of seeing your Copy of Mrs. Wheelwrights Letter, to her Nephew, and having some small acquaintance with the French tongue, have attempted a translation; of it, which I here send, for your perusal and correction.\\nI am sensible that I am but ill qualified for such an undertaking, it being a maxim with me that no one can translate an author well, who cannot write like the original, and I find by Experience that tis more difficult to translate well, than to write well.\\nYou will see that I have endeavourd to translate the letter as literally as I could, without treading on the heels of my Lady abbess, Esteeming literal translations to be the best as well as truest. Should be glad if you would favor me with your translation, for you, being taught the French language by one of the greatest masters, I make no doubt but that your performance shines in all the beauty and perfection of Language.\\nThat you may daily grow in virtue and useful Learning, and be a bright Orniment in Church or State is the sincere wish of Dear Cousin Your affectionat Friend,\\nNabby Smith\\nN B. How the Lady abbess came to subscribe herself Serviteur, which you know is of the masculine Gender I cannot devise unless like all other Ladies in a convent, she chose to make use of the Masculine Gender, rather than the Feminine.\\nExcuse the wri[ting] for tis late at night.'}"
      ]
     },
     "execution_count": 9,
     "metadata": {},
     "output_type": "execute_result"
    }
   ],
   "source": [
    "texts[0]"
   ]
  },
  {
   "cell_type": "markdown",
   "id": "ce7e6de9-35bb-48c9-9fed-1a423fd30954",
   "metadata": {},
   "source": [
    "First, we want to test out an existing model to see how it is performing"
   ]
  },
  {
   "cell_type": "markdown",
   "id": "fc744823-8578-49e4-9f51-eec2191c208d",
   "metadata": {},
   "source": [
    "## Using the Researcher's Lists"
   ]
  },
  {
   "cell_type": "code",
   "execution_count": 67,
   "id": "c69cbfcd-8eea-49de-84be-7e499d0c9602",
   "metadata": {},
   "outputs": [],
   "source": [
    "def make_patterns(file, label, lower_case=False):\n",
    "    temp_patterns = []\n",
    "    with open (file, \"r\", encoding=\"utf-8\") as f:\n",
    "        data = f.read().splitlines()\n",
    "    for item in data:\n",
    "        if lower_case == False:\n",
    "            temp_patterns.append({\"pattern\": item.strip(), \"label\": label})\n",
    "        else:\n",
    "            temp_patterns.append({\"pattern\": [{\"lemma\": item.lower()}], \"label\": label})\n",
    "    return temp_patterns"
   ]
  },
  {
   "cell_type": "code",
   "execution_count": 68,
   "id": "2fb473db-fafc-4ea0-b9ff-cdebdbbbfaa2",
   "metadata": {},
   "outputs": [
    {
     "name": "stdout",
     "output_type": "stream",
     "text": [
      "20\n",
      "53\n",
      "23\n"
     ]
    }
   ],
   "source": [
    "neuter_patterns = make_patterns(\"../data/gen_ref_neuter.txt\", \"REF_NEUTER\", lower_case=True)\n",
    "print (len(neuter_patterns))\n",
    "male_patterns = make_patterns(\"../data/gen_ref_male.txt\", \"REF_MALE\", lower_case=True)\n",
    "print (len(male_patterns))\n",
    "female_patterns = make_patterns(\"../data/gen_ref_female.txt\", \"REF_FEMALE\", lower_case=True)\n",
    "print (len(female_patterns))"
   ]
  },
  {
   "cell_type": "code",
   "execution_count": 69,
   "id": "8bfbd3eb-36f7-4177-a709-3ef48114f321",
   "metadata": {},
   "outputs": [
    {
     "data": {
      "text/plain": [
       "[{'pattern': [{'lemma': 'people'}], 'label': 'REF_NEUTER'},\n",
       " {'pattern': [{'lemma': 'person'}], 'label': 'REF_NEUTER'},\n",
       " {'pattern': [{'lemma': 'patriots'}], 'label': 'REF_NEUTER'},\n",
       " {'pattern': [{'lemma': 'enemies'}], 'label': 'REF_NEUTER'},\n",
       " {'pattern': [{'lemma': 'servant'}], 'label': 'REF_NEUTER'},\n",
       " {'pattern': [{'lemma': 'friend'}], 'label': 'REF_NEUTER'},\n",
       " {'pattern': [{'lemma': 'sex'}], 'label': 'REF_NEUTER'},\n",
       " {'pattern': [{'lemma': 'folk'}], 'label': 'REF_NEUTER'},\n",
       " {'pattern': [{'lemma': 'cousin'}], 'label': 'REF_NEUTER'},\n",
       " {'pattern': [{'lemma': 'family'}], 'label': 'REF_NEUTER'}]"
      ]
     },
     "execution_count": 69,
     "metadata": {},
     "output_type": "execute_result"
    }
   ],
   "source": [
    "neuter_patterns[:10]"
   ]
  },
  {
   "cell_type": "code",
   "execution_count": 75,
   "id": "054c662f-8690-4056-94ae-1b9f748626b5",
   "metadata": {},
   "outputs": [],
   "source": [
    "#load a model and disable the NER component\n",
    "nlp_gen = spacy.load(\"en_core_web_sm\", disable=['ner'])\n",
    "ruler = nlp_gen.add_pipe(\"entity_ruler\")\n",
    "ruler.add_patterns(neuter_patterns+male_patterns+female_patterns)"
   ]
  },
  {
   "cell_type": "code",
   "execution_count": 77,
   "id": "124d3880-93ac-4c3b-8400-2a752ac4571f",
   "metadata": {},
   "outputs": [
    {
     "data": {
      "text/html": [
       "<span class=\"tex2jax_ignore\"><div class=\"entities\" style=\"line-height: 2.5; direction: ltr\">Weymouth March 16 1763</br>Dear Cousin</br>Tis no small pleasure to me, to hear of the great proficioncy you have made in the French tongue, A Tongue Sweet, and harmonious, a Tongue, useful to Merchants, to Statesmen; to Divines, and especially to Lawyers and Travellers; who by the help of it, may traverse the whole Globe; for in this respect, the French language is pretty much now, what I have heard the Latin formerly was, a universal tongue.</br>By the favor of my Father I have had the pleasure of seeing your Copy of Mrs. Wheelwrights Letter, to \n",
       "<mark class=\"entity\" style=\"background: #ddd; padding: 0.45em 0.6em; margin: 0 0.25em; line-height: 1; border-radius: 0.35em;\">\n",
       "    her\n",
       "    <span style=\"font-size: 0.8em; font-weight: bold; line-height: 1; border-radius: 0.35em; vertical-align: middle; margin-left: 0.5rem\">REF_FEMALE</span>\n",
       "</mark>\n",
       " Nephew, and having some small acquaintance with the French tongue, have attempted a translation; of it, which I here send, for your perusal and correction.</br>I am sensible that I am but ill qualified for such an undertaking, it being a maxim with me that no one can translate an author well, who cannot write like the original, and I find by Experience that tis more difficult to translate well, than to write well.</br>You will see that I have endeavourd to translate the letter as literally as I could, without treading on the heels of my Lady abbess, Esteeming literal translations to be the best as well as truest. Should be glad if you would favor me with your translation, for you, being taught the French language by one of the greatest \n",
       "<mark class=\"entity\" style=\"background: #ddd; padding: 0.45em 0.6em; margin: 0 0.25em; line-height: 1; border-radius: 0.35em;\">\n",
       "    masters\n",
       "    <span style=\"font-size: 0.8em; font-weight: bold; line-height: 1; border-radius: 0.35em; vertical-align: middle; margin-left: 0.5rem\">REF_MALE</span>\n",
       "</mark>\n",
       ", I make no doubt but that your performance shines in all the beauty and perfection of Language.</br>That you may daily grow in virtue and useful Learning, and be a bright Orniment in Church or State is the sincere wish of Dear Cousin Your affectionat Friend,</br>Nabby Smith</br>N B. How the Lady abbess came to subscribe herself Serviteur, which you know is of the masculine Gender I cannot devise unless like all other \n",
       "<mark class=\"entity\" style=\"background: #ddd; padding: 0.45em 0.6em; margin: 0 0.25em; line-height: 1; border-radius: 0.35em;\">\n",
       "    Ladies\n",
       "    <span style=\"font-size: 0.8em; font-weight: bold; line-height: 1; border-radius: 0.35em; vertical-align: middle; margin-left: 0.5rem\">REF_FEMALE</span>\n",
       "</mark>\n",
       " in a convent, \n",
       "<mark class=\"entity\" style=\"background: #ddd; padding: 0.45em 0.6em; margin: 0 0.25em; line-height: 1; border-radius: 0.35em;\">\n",
       "    she\n",
       "    <span style=\"font-size: 0.8em; font-weight: bold; line-height: 1; border-radius: 0.35em; vertical-align: middle; margin-left: 0.5rem\">REF_FEMALE</span>\n",
       "</mark>\n",
       " chose to make use of the Masculine Gender, rather than the Feminine.</br>Excuse the wri[ting] for tis late at night.</div></span>"
      ],
      "text/plain": [
       "<IPython.core.display.HTML object>"
      ]
     },
     "metadata": {},
     "output_type": "display_data"
    }
   ],
   "source": [
    "doc_gen = nlp_gen(texts[0]['text'])\n",
    "displacy.render(doc_gen, style='ent')"
   ]
  },
  {
   "cell_type": "markdown",
   "id": "63b0b5f2-4cdf-48cf-b664-1b300dfe0eac",
   "metadata": {},
   "source": [
    "## Finding Proper Nouns that are People"
   ]
  },
  {
   "cell_type": "code",
   "execution_count": 78,
   "id": "6fcade67-7a48-4b78-8470-3f3fecae52bc",
   "metadata": {},
   "outputs": [],
   "source": [
    "nlp_sm = spacy.load(\"en_core_web_sm\")\n",
    "doc_sm = nlp_sm(texts[0]['text'])"
   ]
  },
  {
   "cell_type": "code",
   "execution_count": 79,
   "id": "cd857a51-d95a-4bee-8caf-68c6e36db4d2",
   "metadata": {},
   "outputs": [
    {
     "data": {
      "text/html": [
       "<span class=\"tex2jax_ignore\"><div class=\"entities\" style=\"line-height: 2.5; direction: ltr\">Weymouth \n",
       "<mark class=\"entity\" style=\"background: #bfe1d9; padding: 0.45em 0.6em; margin: 0 0.25em; line-height: 1; border-radius: 0.35em;\">\n",
       "    March 16 1763\n",
       "    <span style=\"font-size: 0.8em; font-weight: bold; line-height: 1; border-radius: 0.35em; vertical-align: middle; margin-left: 0.5rem\">DATE</span>\n",
       "</mark>\n",
       "</br>Dear Cousin</br>Tis no small pleasure to me, to hear of the great proficioncy you have made in the \n",
       "<mark class=\"entity\" style=\"background: #c887fb; padding: 0.45em 0.6em; margin: 0 0.25em; line-height: 1; border-radius: 0.35em;\">\n",
       "    French\n",
       "    <span style=\"font-size: 0.8em; font-weight: bold; line-height: 1; border-radius: 0.35em; vertical-align: middle; margin-left: 0.5rem\">NORP</span>\n",
       "</mark>\n",
       " tongue, A Tongue Sweet, and harmonious, a \n",
       "<mark class=\"entity\" style=\"background: #7aecec; padding: 0.45em 0.6em; margin: 0 0.25em; line-height: 1; border-radius: 0.35em;\">\n",
       "    Tongue\n",
       "    <span style=\"font-size: 0.8em; font-weight: bold; line-height: 1; border-radius: 0.35em; vertical-align: middle; margin-left: 0.5rem\">ORG</span>\n",
       "</mark>\n",
       ", useful to Merchants, to Statesmen; to \n",
       "<mark class=\"entity\" style=\"background: #7aecec; padding: 0.45em 0.6em; margin: 0 0.25em; line-height: 1; border-radius: 0.35em;\">\n",
       "    Divines\n",
       "    <span style=\"font-size: 0.8em; font-weight: bold; line-height: 1; border-radius: 0.35em; vertical-align: middle; margin-left: 0.5rem\">ORG</span>\n",
       "</mark>\n",
       ", and especially to Lawyers and Travellers; who by the help of it, may traverse the whole \n",
       "<mark class=\"entity\" style=\"background: #7aecec; padding: 0.45em 0.6em; margin: 0 0.25em; line-height: 1; border-radius: 0.35em;\">\n",
       "    Globe\n",
       "    <span style=\"font-size: 0.8em; font-weight: bold; line-height: 1; border-radius: 0.35em; vertical-align: middle; margin-left: 0.5rem\">ORG</span>\n",
       "</mark>\n",
       "; for in this respect, the \n",
       "<mark class=\"entity\" style=\"background: #ff8197; padding: 0.45em 0.6em; margin: 0 0.25em; line-height: 1; border-radius: 0.35em;\">\n",
       "    French\n",
       "    <span style=\"font-size: 0.8em; font-weight: bold; line-height: 1; border-radius: 0.35em; vertical-align: middle; margin-left: 0.5rem\">LANGUAGE</span>\n",
       "</mark>\n",
       " language is pretty much now, what I have heard the \n",
       "<mark class=\"entity\" style=\"background: #c887fb; padding: 0.45em 0.6em; margin: 0 0.25em; line-height: 1; border-radius: 0.35em;\">\n",
       "    Latin\n",
       "    <span style=\"font-size: 0.8em; font-weight: bold; line-height: 1; border-radius: 0.35em; vertical-align: middle; margin-left: 0.5rem\">NORP</span>\n",
       "</mark>\n",
       " formerly was, a universal tongue.</br>By the favor of my Father I have had the pleasure of seeing your Copy of Mrs. \n",
       "<mark class=\"entity\" style=\"background: #aa9cfc; padding: 0.45em 0.6em; margin: 0 0.25em; line-height: 1; border-radius: 0.35em;\">\n",
       "    Wheelwrights Letter\n",
       "    <span style=\"font-size: 0.8em; font-weight: bold; line-height: 1; border-radius: 0.35em; vertical-align: middle; margin-left: 0.5rem\">PERSON</span>\n",
       "</mark>\n",
       ", to her \n",
       "<mark class=\"entity\" style=\"background: #7aecec; padding: 0.45em 0.6em; margin: 0 0.25em; line-height: 1; border-radius: 0.35em;\">\n",
       "    Nephew\n",
       "    <span style=\"font-size: 0.8em; font-weight: bold; line-height: 1; border-radius: 0.35em; vertical-align: middle; margin-left: 0.5rem\">ORG</span>\n",
       "</mark>\n",
       ", and having some small acquaintance with the \n",
       "<mark class=\"entity\" style=\"background: #c887fb; padding: 0.45em 0.6em; margin: 0 0.25em; line-height: 1; border-radius: 0.35em;\">\n",
       "    French\n",
       "    <span style=\"font-size: 0.8em; font-weight: bold; line-height: 1; border-radius: 0.35em; vertical-align: middle; margin-left: 0.5rem\">NORP</span>\n",
       "</mark>\n",
       " tongue, have attempted a translation; of it, which I here send, for your perusal and correction.</br>I am sensible that I am but ill qualified for such an undertaking, it being a maxim with me that no one can translate an author well, who cannot write like the original, and I find by Experience that \n",
       "<mark class=\"entity\" style=\"background: #e4e7d2; padding: 0.45em 0.6em; margin: 0 0.25em; line-height: 1; border-radius: 0.35em;\">\n",
       "    tis\n",
       "    <span style=\"font-size: 0.8em; font-weight: bold; line-height: 1; border-radius: 0.35em; vertical-align: middle; margin-left: 0.5rem\">CARDINAL</span>\n",
       "</mark>\n",
       " more difficult to translate well, than to write well.</br>You will see that I have endeavourd to translate the letter as literally as I could, without treading on the heels of my Lady abbess, Esteeming literal translations to be the best as well as truest. Should be glad if you would favor me with your translation, for you, being taught the \n",
       "<mark class=\"entity\" style=\"background: #ff8197; padding: 0.45em 0.6em; margin: 0 0.25em; line-height: 1; border-radius: 0.35em;\">\n",
       "    French\n",
       "    <span style=\"font-size: 0.8em; font-weight: bold; line-height: 1; border-radius: 0.35em; vertical-align: middle; margin-left: 0.5rem\">LANGUAGE</span>\n",
       "</mark>\n",
       " language by \n",
       "<mark class=\"entity\" style=\"background: #e4e7d2; padding: 0.45em 0.6em; margin: 0 0.25em; line-height: 1; border-radius: 0.35em;\">\n",
       "    one\n",
       "    <span style=\"font-size: 0.8em; font-weight: bold; line-height: 1; border-radius: 0.35em; vertical-align: middle; margin-left: 0.5rem\">CARDINAL</span>\n",
       "</mark>\n",
       " of the greatest masters, I make no doubt but that your performance shines in all the beauty and perfection of \n",
       "<mark class=\"entity\" style=\"background: #ff9561; padding: 0.45em 0.6em; margin: 0 0.25em; line-height: 1; border-radius: 0.35em;\">\n",
       "    Language\n",
       "    <span style=\"font-size: 0.8em; font-weight: bold; line-height: 1; border-radius: 0.35em; vertical-align: middle; margin-left: 0.5rem\">LOC</span>\n",
       "</mark>\n",
       ".</br>That you may daily grow in virtue and useful \n",
       "<mark class=\"entity\" style=\"background: #7aecec; padding: 0.45em 0.6em; margin: 0 0.25em; line-height: 1; border-radius: 0.35em;\">\n",
       "    Learning\n",
       "    <span style=\"font-size: 0.8em; font-weight: bold; line-height: 1; border-radius: 0.35em; vertical-align: middle; margin-left: 0.5rem\">ORG</span>\n",
       "</mark>\n",
       ", and be a bright Orniment in Church or \n",
       "<mark class=\"entity\" style=\"background: #7aecec; padding: 0.45em 0.6em; margin: 0 0.25em; line-height: 1; border-radius: 0.35em;\">\n",
       "    State\n",
       "    <span style=\"font-size: 0.8em; font-weight: bold; line-height: 1; border-radius: 0.35em; vertical-align: middle; margin-left: 0.5rem\">ORG</span>\n",
       "</mark>\n",
       " is the sincere wish of \n",
       "<mark class=\"entity\" style=\"background: #f0d0ff; padding: 0.45em 0.6em; margin: 0 0.25em; line-height: 1; border-radius: 0.35em;\">\n",
       "    Dear Cousin Your affectionat\n",
       "    <span style=\"font-size: 0.8em; font-weight: bold; line-height: 1; border-radius: 0.35em; vertical-align: middle; margin-left: 0.5rem\">WORK_OF_ART</span>\n",
       "</mark>\n",
       " Friend,</br>\n",
       "<mark class=\"entity\" style=\"background: #aa9cfc; padding: 0.45em 0.6em; margin: 0 0.25em; line-height: 1; border-radius: 0.35em;\">\n",
       "    Nabby Smith\n",
       "    <span style=\"font-size: 0.8em; font-weight: bold; line-height: 1; border-radius: 0.35em; vertical-align: middle; margin-left: 0.5rem\">PERSON</span>\n",
       "</mark>\n",
       "</br>N B. How the Lady abbess came to subscribe herself \n",
       "<mark class=\"entity\" style=\"background: #7aecec; padding: 0.45em 0.6em; margin: 0 0.25em; line-height: 1; border-radius: 0.35em;\">\n",
       "    Serviteur\n",
       "    <span style=\"font-size: 0.8em; font-weight: bold; line-height: 1; border-radius: 0.35em; vertical-align: middle; margin-left: 0.5rem\">ORG</span>\n",
       "</mark>\n",
       ", which you know is of the masculine \n",
       "<mark class=\"entity\" style=\"background: #7aecec; padding: 0.45em 0.6em; margin: 0 0.25em; line-height: 1; border-radius: 0.35em;\">\n",
       "    Gender\n",
       "    <span style=\"font-size: 0.8em; font-weight: bold; line-height: 1; border-radius: 0.35em; vertical-align: middle; margin-left: 0.5rem\">ORG</span>\n",
       "</mark>\n",
       " I cannot devise unless like all other Ladies in a convent, she chose to make use of the Masculine \n",
       "<mark class=\"entity\" style=\"background: #7aecec; padding: 0.45em 0.6em; margin: 0 0.25em; line-height: 1; border-radius: 0.35em;\">\n",
       "    Gender\n",
       "    <span style=\"font-size: 0.8em; font-weight: bold; line-height: 1; border-radius: 0.35em; vertical-align: middle; margin-left: 0.5rem\">ORG</span>\n",
       "</mark>\n",
       ", rather than the \n",
       "<mark class=\"entity\" style=\"background: #7aecec; padding: 0.45em 0.6em; margin: 0 0.25em; line-height: 1; border-radius: 0.35em;\">\n",
       "    Feminine\n",
       "    <span style=\"font-size: 0.8em; font-weight: bold; line-height: 1; border-radius: 0.35em; vertical-align: middle; margin-left: 0.5rem\">ORG</span>\n",
       "</mark>\n",
       ".</br>Excuse the wri[ting] for \n",
       "<mark class=\"entity\" style=\"background: #e4e7d2; padding: 0.45em 0.6em; margin: 0 0.25em; line-height: 1; border-radius: 0.35em;\">\n",
       "    tis\n",
       "    <span style=\"font-size: 0.8em; font-weight: bold; line-height: 1; border-radius: 0.35em; vertical-align: middle; margin-left: 0.5rem\">CARDINAL</span>\n",
       "</mark>\n",
       " late at \n",
       "<mark class=\"entity\" style=\"background: #bfe1d9; padding: 0.45em 0.6em; margin: 0 0.25em; line-height: 1; border-radius: 0.35em;\">\n",
       "    night\n",
       "    <span style=\"font-size: 0.8em; font-weight: bold; line-height: 1; border-radius: 0.35em; vertical-align: middle; margin-left: 0.5rem\">TIME</span>\n",
       "</mark>\n",
       ".</div></span>"
      ],
      "text/plain": [
       "<IPython.core.display.HTML object>"
      ]
     },
     "metadata": {},
     "output_type": "display_data"
    }
   ],
   "source": [
    "displacy.render(doc_sm, style=\"ent\")"
   ]
  },
  {
   "cell_type": "code",
   "execution_count": 22,
   "id": "835b0653-7b30-4fe5-b818-825300d07a91",
   "metadata": {},
   "outputs": [
    {
     "data": {
      "text/plain": [
       "35"
      ]
     },
     "execution_count": 22,
     "metadata": {},
     "output_type": "execute_result"
    }
   ],
   "source": [
    "def model_people(texts):\n",
    "    potential_people = []\n",
    "    for text in texts[:10]:\n",
    "        doc = nlp(text['text'])\n",
    "        for ent in doc.ents:\n",
    "            if ent.label_ == \"PERSON\":\n",
    "                if ent.text not in potential_people:\n",
    "                    potential_people.append(ent.text)\n",
    "    return potential_people\n",
    "potential_people = model_people(texts)\n",
    "potential_people.sort()\n",
    "len(potential_people)"
   ]
  },
  {
   "cell_type": "code",
   "execution_count": 23,
   "id": "14b7d560-77a4-45a9-8ea6-4ce073e0c1ea",
   "metadata": {},
   "outputs": [
    {
     "data": {
      "text/plain": [
       "['A. Smith',\n",
       " 'Abll',\n",
       " 'Adams',\n",
       " 'Adams returnd',\n",
       " 'Ayers',\n",
       " 'Ayres',\n",
       " 'Bed',\n",
       " 'Betsy',\n",
       " 'Conclude',\n",
       " 'Conscience',\n",
       " 'Cranch',\n",
       " 'Daughter Betsy',\n",
       " 'Diana',\n",
       " 'Eyers',\n",
       " 'Fabrick',\n",
       " 'Girl',\n",
       " 'Girls Letter',\n",
       " 'Humble Servant',\n",
       " 'Lisps',\n",
       " 'Lysander',\n",
       " 'Mamma',\n",
       " 'Marcia',\n",
       " 'Nabby Smith',\n",
       " 'Nights',\n",
       " 'Perkins',\n",
       " 'Small',\n",
       " 'Sol',\n",
       " 'Squemish',\n",
       " 'Thoughts',\n",
       " 'Tis Bed time',\n",
       " 'Tom',\n",
       " 'Vomit',\n",
       " 'Wheelwrights Letter',\n",
       " 'eaquil',\n",
       " 'mine.)—Exit Rattle']"
      ]
     },
     "execution_count": 23,
     "metadata": {},
     "output_type": "execute_result"
    }
   ],
   "source": [
    "potential_people"
   ]
  },
  {
   "cell_type": "markdown",
   "id": "cd097145-d560-4c48-9711-ad3e84656623",
   "metadata": {},
   "source": [
    "## Finding Noun Chunks"
   ]
  },
  {
   "cell_type": "markdown",
   "id": "8b73a520-c52e-47c0-a84d-3209a17070b9",
   "metadata": {},
   "source": [
    "Now that we have a good sense of the strengths and weaknesses of an existing pipeline, we can start to create our own custom pipeline tailored to the data at hand."
   ]
  },
  {
   "cell_type": "code",
   "execution_count": 81,
   "id": "0df2a371-e9c9-4223-b258-1a496a2add17",
   "metadata": {},
   "outputs": [
    {
     "data": {
      "text/plain": [
       "26"
      ]
     },
     "execution_count": 81,
     "metadata": {},
     "output_type": "execute_result"
    }
   ],
   "source": [
    "chunks = []\n",
    "for text in texts[:10]:\n",
    "    doc = nlp_sm(text[\"text\"])\n",
    "    for chunk in doc.noun_chunks:\n",
    "        if chunk.text[0].isupper() and len(chunk.text.split()) > 1:\n",
    "            hit = True\n",
    "            for part in chunk.text.split():\n",
    "                if part[0].isupper():\n",
    "                    pass\n",
    "                else:\n",
    "                    hit=False\n",
    "            if hit == True:\n",
    "                if chunk.text not in chunks and \"Your\" not in chunk.text:\n",
    "                    chunks.append(chunk.text)\n",
    "chunks.sort()\n",
    "len(chunks)"
   ]
  },
  {
   "cell_type": "code",
   "execution_count": 82,
   "id": "8b87a8ae-728f-4ddb-9678-3161ab71054f",
   "metadata": {},
   "outputs": [
    {
     "data": {
      "text/plain": [
       "['A Tongue Sweet',\n",
       " 'Deacon Palmers Children',\n",
       " 'Dear Cousin',\n",
       " 'Dear Unkle',\n",
       " 'Doctor Perkins',\n",
       " 'Dr. Perkins',\n",
       " 'Humane Nature',\n",
       " 'Lord M',\n",
       " 'Mr. Adams',\n",
       " 'Mr. Ayers']"
      ]
     },
     "execution_count": 82,
     "metadata": {},
     "output_type": "execute_result"
    }
   ],
   "source": [
    "chunks[:10]"
   ]
  },
  {
   "cell_type": "markdown",
   "id": "020a4590-00ae-4082-b4c1-c9c44c3fba16",
   "metadata": {},
   "source": [
    "## Making a Gazateer"
   ]
  },
  {
   "cell_type": "code",
   "execution_count": 26,
   "id": "4ab0dd2e-94e5-4244-b497-4f4d10080e74",
   "metadata": {},
   "outputs": [
    {
     "data": {
      "text/plain": [
       "{'link': 'https://founders.archives.gov/documents/Adams/04-01-02-0005',\n",
       " 'author': ['Adams, Abigail'],\n",
       " 'recipient': ['Smith, Isaac Jr.'],\n",
       " 'date_from': '1763-03-16',\n",
       " 'date_to': '1763-03-16',\n",
       " 'text': 'Weymouth March 16 1763\\nDear Cousin\\nTis no small pleasure to me, to hear of the great proficioncy you have made in the French tongue, A Tongue Sweet, and harmonious, a Tongue, useful to Merchants, to Statesmen; to Divines, and especially to Lawyers and Travellers; who by the help of it, may traverse the whole Globe; for in this respect, the French language is pretty much now, what I have heard the Latin formerly was, a universal tongue.\\nBy the favor of my Father I have had the pleasure of seeing your Copy of Mrs. Wheelwrights Letter, to her Nephew, and having some small acquaintance with the French tongue, have attempted a translation; of it, which I here send, for your perusal and correction.\\nI am sensible that I am but ill qualified for such an undertaking, it being a maxim with me that no one can translate an author well, who cannot write like the original, and I find by Experience that tis more difficult to translate well, than to write well.\\nYou will see that I have endeavourd to translate the letter as literally as I could, without treading on the heels of my Lady abbess, Esteeming literal translations to be the best as well as truest. Should be glad if you would favor me with your translation, for you, being taught the French language by one of the greatest masters, I make no doubt but that your performance shines in all the beauty and perfection of Language.\\nThat you may daily grow in virtue and useful Learning, and be a bright Orniment in Church or State is the sincere wish of Dear Cousin Your affectionat Friend,\\nNabby Smith\\nN B. How the Lady abbess came to subscribe herself Serviteur, which you know is of the masculine Gender I cannot devise unless like all other Ladies in a convent, she chose to make use of the Masculine Gender, rather than the Feminine.\\nExcuse the wri[ting] for tis late at night.'}"
      ]
     },
     "execution_count": 26,
     "metadata": {},
     "output_type": "execute_result"
    }
   ],
   "source": [
    "texts[0]"
   ]
  },
  {
   "cell_type": "code",
   "execution_count": 30,
   "id": "9bd553e8-c931-4a49-b240-7d945dfcbe69",
   "metadata": {},
   "outputs": [
    {
     "data": {
      "text/plain": [
       "94"
      ]
     },
     "execution_count": 30,
     "metadata": {},
     "output_type": "execute_result"
    }
   ],
   "source": [
    "names = []\n",
    "for text in texts:\n",
    "    for author in text['author']:\n",
    "        if author not in names:\n",
    "            names.append(author)\n",
    "    for recipient in text['recipient']:\n",
    "        if recipient not in names:\n",
    "            names.append(recipient)\n",
    "len(names)"
   ]
  },
  {
   "cell_type": "code",
   "execution_count": 32,
   "id": "a556ca7a-74f2-4d25-a227-b223985ff91a",
   "metadata": {},
   "outputs": [
    {
     "data": {
      "text/plain": [
       "['Adams, Abigail',\n",
       " 'Smith, Isaac Jr.',\n",
       " 'Adams, John',\n",
       " 'Tufts, Cotton',\n",
       " 'Green, Hannah Storer',\n",
       " 'Cranch, Mary Smith',\n",
       " 'Warren, Mercy Otis',\n",
       " 'Tudor, William',\n",
       " 'Macaulay, Catharine Sawbridge',\n",
       " 'Warren, Joseph']"
      ]
     },
     "execution_count": 32,
     "metadata": {},
     "output_type": "execute_result"
    }
   ],
   "source": [
    "names[:10]"
   ]
  },
  {
   "cell_type": "code",
   "execution_count": 64,
   "id": "9cf6e732-922d-45ca-9aac-7c461d04ac84",
   "metadata": {},
   "outputs": [
    {
     "data": {
      "text/plain": [
       "218"
      ]
     },
     "execution_count": 64,
     "metadata": {},
     "output_type": "execute_result"
    }
   ],
   "source": [
    "reconst_names = []\n",
    "for name in names:\n",
    "    if \", \" in name:\n",
    "        name = name.replace(\" Jr.\", \"\").replace(\" Sr.\", \"\")\n",
    "        name = re.sub(r\"\\([^()]*\\)\", \"\", name)\n",
    "        lastname, other = name.split(\", \")\n",
    "        final_name = f\"{other} {lastname}\"\n",
    "        reconst_names.append(final_name)\n",
    "        if lastname not in reconst_names:\n",
    "            reconst_names.append(lastname)\n",
    "        parts = other.split()\n",
    "        for p in parts:\n",
    "            if p not in reconst_names:\n",
    "                if \".\" not in p:\n",
    "                    reconst_names.append(p)\n",
    "            \n",
    "reconst_names.sort()\n",
    "len(reconst_names)"
   ]
  },
  {
   "cell_type": "code",
   "execution_count": 66,
   "id": "fd456aba-f11b-4ed7-867a-1b19e26d714e",
   "metadata": {},
   "outputs": [
    {
     "data": {
      "text/plain": [
       "['Abigail',\n",
       " 'Abigail  Adams',\n",
       " 'Abigail Adams',\n",
       " 'Abigail Adams Smith',\n",
       " 'Abigail Bromfield Rogers',\n",
       " 'Adams',\n",
       " 'Alice',\n",
       " 'Alice Lee Shippen',\n",
       " 'Anna',\n",
       " 'Anna Greenleaf Cranch']"
      ]
     },
     "execution_count": 66,
     "metadata": {},
     "output_type": "execute_result"
    }
   ],
   "source": [
    "reconst_names[:10]"
   ]
  },
  {
   "cell_type": "code",
   "execution_count": 89,
   "id": "91fe526f-c39d-491f-9013-d78e73acdfe4",
   "metadata": {},
   "outputs": [],
   "source": [
    "name_patterns = []\n",
    "for name in reconst_names:\n",
    "    name_patterns.append({\"pattern\": name, \"label\": \"PERSON-RULER\"})"
   ]
  },
  {
   "cell_type": "markdown",
   "id": "34960ccb-103d-4cc0-8002-758d3a565539",
   "metadata": {},
   "source": [
    "# Part Five: Bringing the Pipeline Together"
   ]
  },
  {
   "cell_type": "code",
   "execution_count": 86,
   "id": "2de8fc18-5362-4561-9297-2529ac3308c9",
   "metadata": {},
   "outputs": [
    {
     "data": {
      "text/plain": [
       "{'pattern': [{'lemma': 'people'}], 'label': 'REF_NEUTER'}"
      ]
     },
     "execution_count": 86,
     "metadata": {},
     "output_type": "execute_result"
    }
   ],
   "source": [
    "neuter_patterns = make_patterns(\"../data/gen_ref_neuter.txt\", \"REF_NEUTER\", lower_case=True)\n",
    "male_patterns = make_patterns(\"../data/gen_ref_male.txt\", \"REF_MALE\", lower_case=True)\n",
    "female_patterns = make_patterns(\"../data/gen_ref_female.txt\", \"REF_FEMALE\", lower_case=True)\n",
    "gender_patterns = neuter_patterns+male_patterns+female_patterns\n",
    "gender_patterns[0]"
   ]
  },
  {
   "cell_type": "code",
   "execution_count": 94,
   "id": "1868e60c-8df8-4ff3-853e-4c85e0710c08",
   "metadata": {},
   "outputs": [],
   "source": [
    "main_nlp = spacy.load(\"en_core_web_sm\")\n",
    "gender_ruler = main_nlp.add_pipe(\"entity_ruler\", name=\"gender_ruler\", before=\"ner\")\n",
    "gender_ruler.add_patterns(gender_patterns)\n",
    "\n",
    "name_ruler = main_nlp.add_pipe(\"entity_ruler\", name=\"name_ruler\", before=\"ner\")\n",
    "name_ruler.add_patterns(name_patterns)"
   ]
  },
  {
   "cell_type": "code",
   "execution_count": 102,
   "id": "7eefffd1-313c-4e71-87d6-05d5d4417616",
   "metadata": {},
   "outputs": [
    {
     "data": {
      "text/html": [
       "<span class=\"tex2jax_ignore\"><div class=\"entities\" style=\"line-height: 2.5; direction: ltr\">Weymouth \n",
       "<mark class=\"entity\" style=\"background: #bfe1d9; padding: 0.45em 0.6em; margin: 0 0.25em; line-height: 1; border-radius: 0.35em;\">\n",
       "    March 16 1763\n",
       "    <span style=\"font-size: 0.8em; font-weight: bold; line-height: 1; border-radius: 0.35em; vertical-align: middle; margin-left: 0.5rem\">DATE</span>\n",
       "</mark>\n",
       "</br>Dear Cousin</br>Tis no small pleasure to me, to hear of the great proficioncy you have made in the \n",
       "<mark class=\"entity\" style=\"background: #c887fb; padding: 0.45em 0.6em; margin: 0 0.25em; line-height: 1; border-radius: 0.35em;\">\n",
       "    French\n",
       "    <span style=\"font-size: 0.8em; font-weight: bold; line-height: 1; border-radius: 0.35em; vertical-align: middle; margin-left: 0.5rem\">NORP</span>\n",
       "</mark>\n",
       " tongue, A Tongue Sweet, and harmonious, a \n",
       "<mark class=\"entity\" style=\"background: #7aecec; padding: 0.45em 0.6em; margin: 0 0.25em; line-height: 1; border-radius: 0.35em;\">\n",
       "    Tongue\n",
       "    <span style=\"font-size: 0.8em; font-weight: bold; line-height: 1; border-radius: 0.35em; vertical-align: middle; margin-left: 0.5rem\">ORG</span>\n",
       "</mark>\n",
       ", useful to Merchants, to Statesmen; to \n",
       "<mark class=\"entity\" style=\"background: #7aecec; padding: 0.45em 0.6em; margin: 0 0.25em; line-height: 1; border-radius: 0.35em;\">\n",
       "    Divines\n",
       "    <span style=\"font-size: 0.8em; font-weight: bold; line-height: 1; border-radius: 0.35em; vertical-align: middle; margin-left: 0.5rem\">ORG</span>\n",
       "</mark>\n",
       ", and especially to Lawyers and Travellers; who by the help of it, may traverse the whole \n",
       "<mark class=\"entity\" style=\"background: #7aecec; padding: 0.45em 0.6em; margin: 0 0.25em; line-height: 1; border-radius: 0.35em;\">\n",
       "    Globe\n",
       "    <span style=\"font-size: 0.8em; font-weight: bold; line-height: 1; border-radius: 0.35em; vertical-align: middle; margin-left: 0.5rem\">ORG</span>\n",
       "</mark>\n",
       "; for in this respect, the \n",
       "<mark class=\"entity\" style=\"background: #ff8197; padding: 0.45em 0.6em; margin: 0 0.25em; line-height: 1; border-radius: 0.35em;\">\n",
       "    French\n",
       "    <span style=\"font-size: 0.8em; font-weight: bold; line-height: 1; border-radius: 0.35em; vertical-align: middle; margin-left: 0.5rem\">LANGUAGE</span>\n",
       "</mark>\n",
       " language is pretty much now, what I have heard the \n",
       "<mark class=\"entity\" style=\"background: #c887fb; padding: 0.45em 0.6em; margin: 0 0.25em; line-height: 1; border-radius: 0.35em;\">\n",
       "    Latin\n",
       "    <span style=\"font-size: 0.8em; font-weight: bold; line-height: 1; border-radius: 0.35em; vertical-align: middle; margin-left: 0.5rem\">NORP</span>\n",
       "</mark>\n",
       " formerly was, a universal tongue.</br>By the favor of my Father I have had the pleasure of seeing your Copy of \n",
       "<mark class=\"entity\" style=\"background: #aa9cfc; padding: 0.45em 0.6em; margin: 0 0.25em; line-height: 1; border-radius: 0.35em;\">\n",
       "    Mrs. Wheelwrights Letter\n",
       "    <span style=\"font-size: 0.8em; font-weight: bold; line-height: 1; border-radius: 0.35em; vertical-align: middle; margin-left: 0.5rem\">PERSON</span>\n",
       "</mark>\n",
       ", to \n",
       "<mark class=\"entity\" style=\"background: #ddd; padding: 0.45em 0.6em; margin: 0 0.25em; line-height: 1; border-radius: 0.35em;\">\n",
       "    her\n",
       "    <span style=\"font-size: 0.8em; font-weight: bold; line-height: 1; border-radius: 0.35em; vertical-align: middle; margin-left: 0.5rem\">REF_FEMALE</span>\n",
       "</mark>\n",
       " \n",
       "<mark class=\"entity\" style=\"background: #7aecec; padding: 0.45em 0.6em; margin: 0 0.25em; line-height: 1; border-radius: 0.35em;\">\n",
       "    Nephew\n",
       "    <span style=\"font-size: 0.8em; font-weight: bold; line-height: 1; border-radius: 0.35em; vertical-align: middle; margin-left: 0.5rem\">ORG</span>\n",
       "</mark>\n",
       ", and having some small acquaintance with the \n",
       "<mark class=\"entity\" style=\"background: #c887fb; padding: 0.45em 0.6em; margin: 0 0.25em; line-height: 1; border-radius: 0.35em;\">\n",
       "    French\n",
       "    <span style=\"font-size: 0.8em; font-weight: bold; line-height: 1; border-radius: 0.35em; vertical-align: middle; margin-left: 0.5rem\">NORP</span>\n",
       "</mark>\n",
       " tongue, have attempted a translation; of it, which I here send, for your perusal and correction.</br>I am sensible that I am but ill qualified for such an undertaking, it being a maxim with me that no one can translate an author well, who cannot write like the original, and I find by Experience that \n",
       "<mark class=\"entity\" style=\"background: #e4e7d2; padding: 0.45em 0.6em; margin: 0 0.25em; line-height: 1; border-radius: 0.35em;\">\n",
       "    tis\n",
       "    <span style=\"font-size: 0.8em; font-weight: bold; line-height: 1; border-radius: 0.35em; vertical-align: middle; margin-left: 0.5rem\">CARDINAL</span>\n",
       "</mark>\n",
       " more difficult to translate well, than to write well.</br>You will see that I have endeavourd to translate the letter as literally as I could, without treading on the heels of my Lady abbess, Esteeming literal translations to be the best as well as truest. Should be glad if you would favor me with your translation, for you, being taught the \n",
       "<mark class=\"entity\" style=\"background: #ff8197; padding: 0.45em 0.6em; margin: 0 0.25em; line-height: 1; border-radius: 0.35em;\">\n",
       "    French\n",
       "    <span style=\"font-size: 0.8em; font-weight: bold; line-height: 1; border-radius: 0.35em; vertical-align: middle; margin-left: 0.5rem\">LANGUAGE</span>\n",
       "</mark>\n",
       " language by \n",
       "<mark class=\"entity\" style=\"background: #e4e7d2; padding: 0.45em 0.6em; margin: 0 0.25em; line-height: 1; border-radius: 0.35em;\">\n",
       "    one\n",
       "    <span style=\"font-size: 0.8em; font-weight: bold; line-height: 1; border-radius: 0.35em; vertical-align: middle; margin-left: 0.5rem\">CARDINAL</span>\n",
       "</mark>\n",
       " of the greatest \n",
       "<mark class=\"entity\" style=\"background: #ddd; padding: 0.45em 0.6em; margin: 0 0.25em; line-height: 1; border-radius: 0.35em;\">\n",
       "    masters\n",
       "    <span style=\"font-size: 0.8em; font-weight: bold; line-height: 1; border-radius: 0.35em; vertical-align: middle; margin-left: 0.5rem\">REF_MALE</span>\n",
       "</mark>\n",
       ", I make no doubt but that your performance shines in all the beauty and perfection of \n",
       "<mark class=\"entity\" style=\"background: #ff9561; padding: 0.45em 0.6em; margin: 0 0.25em; line-height: 1; border-radius: 0.35em;\">\n",
       "    Language\n",
       "    <span style=\"font-size: 0.8em; font-weight: bold; line-height: 1; border-radius: 0.35em; vertical-align: middle; margin-left: 0.5rem\">LOC</span>\n",
       "</mark>\n",
       ".</br>That you may daily grow in virtue and useful \n",
       "<mark class=\"entity\" style=\"background: #7aecec; padding: 0.45em 0.6em; margin: 0 0.25em; line-height: 1; border-radius: 0.35em;\">\n",
       "    Learning\n",
       "    <span style=\"font-size: 0.8em; font-weight: bold; line-height: 1; border-radius: 0.35em; vertical-align: middle; margin-left: 0.5rem\">ORG</span>\n",
       "</mark>\n",
       ", and be a bright Orniment in Church or \n",
       "<mark class=\"entity\" style=\"background: #7aecec; padding: 0.45em 0.6em; margin: 0 0.25em; line-height: 1; border-radius: 0.35em;\">\n",
       "    State\n",
       "    <span style=\"font-size: 0.8em; font-weight: bold; line-height: 1; border-radius: 0.35em; vertical-align: middle; margin-left: 0.5rem\">ORG</span>\n",
       "</mark>\n",
       " is the sincere wish of \n",
       "<mark class=\"entity\" style=\"background: #f0d0ff; padding: 0.45em 0.6em; margin: 0 0.25em; line-height: 1; border-radius: 0.35em;\">\n",
       "    Dear Cousin Your affectionat\n",
       "    <span style=\"font-size: 0.8em; font-weight: bold; line-height: 1; border-radius: 0.35em; vertical-align: middle; margin-left: 0.5rem\">WORK_OF_ART</span>\n",
       "</mark>\n",
       " Friend,</br>Nabby \n",
       "<mark class=\"entity\" style=\"background: #ddd; padding: 0.45em 0.6em; margin: 0 0.25em; line-height: 1; border-radius: 0.35em;\">\n",
       "    Smith\n",
       "    <span style=\"font-size: 0.8em; font-weight: bold; line-height: 1; border-radius: 0.35em; vertical-align: middle; margin-left: 0.5rem\">PERSON-RULER</span>\n",
       "</mark>\n",
       "</br>N B. How the Lady abbess came to subscribe herself \n",
       "<mark class=\"entity\" style=\"background: #7aecec; padding: 0.45em 0.6em; margin: 0 0.25em; line-height: 1; border-radius: 0.35em;\">\n",
       "    Serviteur\n",
       "    <span style=\"font-size: 0.8em; font-weight: bold; line-height: 1; border-radius: 0.35em; vertical-align: middle; margin-left: 0.5rem\">ORG</span>\n",
       "</mark>\n",
       ", which you know is of the masculine \n",
       "<mark class=\"entity\" style=\"background: #7aecec; padding: 0.45em 0.6em; margin: 0 0.25em; line-height: 1; border-radius: 0.35em;\">\n",
       "    Gender\n",
       "    <span style=\"font-size: 0.8em; font-weight: bold; line-height: 1; border-radius: 0.35em; vertical-align: middle; margin-left: 0.5rem\">ORG</span>\n",
       "</mark>\n",
       " I cannot devise unless like all other \n",
       "<mark class=\"entity\" style=\"background: #ddd; padding: 0.45em 0.6em; margin: 0 0.25em; line-height: 1; border-radius: 0.35em;\">\n",
       "    Ladies\n",
       "    <span style=\"font-size: 0.8em; font-weight: bold; line-height: 1; border-radius: 0.35em; vertical-align: middle; margin-left: 0.5rem\">REF_FEMALE</span>\n",
       "</mark>\n",
       " in a convent, \n",
       "<mark class=\"entity\" style=\"background: #ddd; padding: 0.45em 0.6em; margin: 0 0.25em; line-height: 1; border-radius: 0.35em;\">\n",
       "    she\n",
       "    <span style=\"font-size: 0.8em; font-weight: bold; line-height: 1; border-radius: 0.35em; vertical-align: middle; margin-left: 0.5rem\">REF_FEMALE</span>\n",
       "</mark>\n",
       " chose to make use of the Masculine \n",
       "<mark class=\"entity\" style=\"background: #7aecec; padding: 0.45em 0.6em; margin: 0 0.25em; line-height: 1; border-radius: 0.35em;\">\n",
       "    Gender\n",
       "    <span style=\"font-size: 0.8em; font-weight: bold; line-height: 1; border-radius: 0.35em; vertical-align: middle; margin-left: 0.5rem\">ORG</span>\n",
       "</mark>\n",
       ", rather than the \n",
       "<mark class=\"entity\" style=\"background: #7aecec; padding: 0.45em 0.6em; margin: 0 0.25em; line-height: 1; border-radius: 0.35em;\">\n",
       "    Feminine\n",
       "    <span style=\"font-size: 0.8em; font-weight: bold; line-height: 1; border-radius: 0.35em; vertical-align: middle; margin-left: 0.5rem\">ORG</span>\n",
       "</mark>\n",
       ".</br>Excuse the wri[ting] for \n",
       "<mark class=\"entity\" style=\"background: #e4e7d2; padding: 0.45em 0.6em; margin: 0 0.25em; line-height: 1; border-radius: 0.35em;\">\n",
       "    tis\n",
       "    <span style=\"font-size: 0.8em; font-weight: bold; line-height: 1; border-radius: 0.35em; vertical-align: middle; margin-left: 0.5rem\">CARDINAL</span>\n",
       "</mark>\n",
       " late at \n",
       "<mark class=\"entity\" style=\"background: #bfe1d9; padding: 0.45em 0.6em; margin: 0 0.25em; line-height: 1; border-radius: 0.35em;\">\n",
       "    night\n",
       "    <span style=\"font-size: 0.8em; font-weight: bold; line-height: 1; border-radius: 0.35em; vertical-align: middle; margin-left: 0.5rem\">TIME</span>\n",
       "</mark>\n",
       ".</div></span>"
      ],
      "text/plain": [
       "<IPython.core.display.HTML object>"
      ]
     },
     "metadata": {},
     "output_type": "display_data"
    }
   ],
   "source": [
    "doc = main_nlp(texts[0]['text'])\n",
    "displacy.render(doc, style=\"ent\")"
   ]
  },
  {
   "cell_type": "markdown",
   "id": "c899cbb9-3047-4aa2-8aae-ab36a1c2d796",
   "metadata": {},
   "source": [
    "### Finding Names with Salutations"
   ]
  },
  {
   "cell_type": "code",
   "execution_count": 100,
   "id": "48ae024c-a64b-4d63-a3d8-28822a37e5f9",
   "metadata": {},
   "outputs": [],
   "source": [
    "import spacy\n",
    "from spacy.util import filter_spans\n",
    "from spacy.tokens import Span\n",
    "from spacy.language import Language\n",
    "import re"
   ]
  },
  {
   "cell_type": "code",
   "execution_count": 106,
   "id": "6ba4bee9-2289-41fb-9923-646b883c5837",
   "metadata": {},
   "outputs": [
    {
     "data": {
      "text/plain": [
       "<function __main__.salutation_person(doc)>"
      ]
     },
     "execution_count": 106,
     "metadata": {},
     "output_type": "execute_result"
    }
   ],
   "source": [
    "with open (\"../data/salutations.txt\", \"r\") as f:\n",
    "    sals = f.read().splitlines()\n",
    "sals = \"|\".join(sals)\n",
    "salutation_names_pattern = f\"({sals}\"+r\")(\\.)* [A-Z]\\w+\"\n",
    "@Language.component(\"salutation_person\")\n",
    "def salutation_person(doc):\n",
    "    text = doc.text\n",
    "    person_ents = []\n",
    "    original_ents = list(doc.ents)\n",
    "    for match in re.finditer(salutation_names_pattern, doc.text):\n",
    "        start, end = match.span()\n",
    "        span = doc.char_span(start, end)\n",
    "        if span != None:\n",
    "            person_ents.append((span.start, span.end, span.text))\n",
    "    if len(person_ents) > 0:\n",
    "        for start, end, name in person_ents:\n",
    "            per_ent = Span(doc, start, end, label=\"PERSON-SALUTATION\")\n",
    "            original_ents.append(per_ent)\n",
    "    filtered = filter_spans(original_ents)\n",
    "    doc.ents = filtered\n",
    "    return (doc)\n",
    "main_nlp = spacy.load(\"en_core_web_sm\")\n",
    "gender_ruler = main_nlp.add_pipe(\"entity_ruler\", name=\"gender_ruler\", before=\"ner\")\n",
    "gender_ruler.add_patterns(gender_patterns)\n",
    "\n",
    "name_ruler = main_nlp.add_pipe(\"entity_ruler\", name=\"name_ruler\", before=\"ner\")\n",
    "name_ruler.add_patterns(name_patterns)\n",
    "main_nlp.add_pipe(\"salutation_person\", before=\"gender_ruler\")"
   ]
  },
  {
   "cell_type": "code",
   "execution_count": 107,
   "id": "e2b8f82f-92c1-4a8c-aa23-623049464274",
   "metadata": {},
   "outputs": [
    {
     "data": {
      "text/html": [
       "<span class=\"tex2jax_ignore\"><div class=\"entities\" style=\"line-height: 2.5; direction: ltr\">Weymouth \n",
       "<mark class=\"entity\" style=\"background: #bfe1d9; padding: 0.45em 0.6em; margin: 0 0.25em; line-height: 1; border-radius: 0.35em;\">\n",
       "    March 16 1763\n",
       "    <span style=\"font-size: 0.8em; font-weight: bold; line-height: 1; border-radius: 0.35em; vertical-align: middle; margin-left: 0.5rem\">DATE</span>\n",
       "</mark>\n",
       "</br>Dear Cousin</br>Tis no small pleasure to me, to hear of the great proficioncy you have made in the \n",
       "<mark class=\"entity\" style=\"background: #c887fb; padding: 0.45em 0.6em; margin: 0 0.25em; line-height: 1; border-radius: 0.35em;\">\n",
       "    French\n",
       "    <span style=\"font-size: 0.8em; font-weight: bold; line-height: 1; border-radius: 0.35em; vertical-align: middle; margin-left: 0.5rem\">NORP</span>\n",
       "</mark>\n",
       " tongue, A Tongue Sweet, and harmonious, a \n",
       "<mark class=\"entity\" style=\"background: #7aecec; padding: 0.45em 0.6em; margin: 0 0.25em; line-height: 1; border-radius: 0.35em;\">\n",
       "    Tongue\n",
       "    <span style=\"font-size: 0.8em; font-weight: bold; line-height: 1; border-radius: 0.35em; vertical-align: middle; margin-left: 0.5rem\">ORG</span>\n",
       "</mark>\n",
       ", useful to Merchants, to Statesmen; to \n",
       "<mark class=\"entity\" style=\"background: #7aecec; padding: 0.45em 0.6em; margin: 0 0.25em; line-height: 1; border-radius: 0.35em;\">\n",
       "    Divines\n",
       "    <span style=\"font-size: 0.8em; font-weight: bold; line-height: 1; border-radius: 0.35em; vertical-align: middle; margin-left: 0.5rem\">ORG</span>\n",
       "</mark>\n",
       ", and especially to Lawyers and Travellers; who by the help of it, may traverse the whole \n",
       "<mark class=\"entity\" style=\"background: #7aecec; padding: 0.45em 0.6em; margin: 0 0.25em; line-height: 1; border-radius: 0.35em;\">\n",
       "    Globe\n",
       "    <span style=\"font-size: 0.8em; font-weight: bold; line-height: 1; border-radius: 0.35em; vertical-align: middle; margin-left: 0.5rem\">ORG</span>\n",
       "</mark>\n",
       "; for in this respect, the \n",
       "<mark class=\"entity\" style=\"background: #ff8197; padding: 0.45em 0.6em; margin: 0 0.25em; line-height: 1; border-radius: 0.35em;\">\n",
       "    French\n",
       "    <span style=\"font-size: 0.8em; font-weight: bold; line-height: 1; border-radius: 0.35em; vertical-align: middle; margin-left: 0.5rem\">LANGUAGE</span>\n",
       "</mark>\n",
       " language is pretty much now, what I have heard the \n",
       "<mark class=\"entity\" style=\"background: #c887fb; padding: 0.45em 0.6em; margin: 0 0.25em; line-height: 1; border-radius: 0.35em;\">\n",
       "    Latin\n",
       "    <span style=\"font-size: 0.8em; font-weight: bold; line-height: 1; border-radius: 0.35em; vertical-align: middle; margin-left: 0.5rem\">NORP</span>\n",
       "</mark>\n",
       " formerly was, a universal tongue.</br>By the favor of my Father I have had the pleasure of seeing your Copy of \n",
       "<mark class=\"entity\" style=\"background: #ddd; padding: 0.45em 0.6em; margin: 0 0.25em; line-height: 1; border-radius: 0.35em;\">\n",
       "    Mrs. Wheelwrights\n",
       "    <span style=\"font-size: 0.8em; font-weight: bold; line-height: 1; border-radius: 0.35em; vertical-align: middle; margin-left: 0.5rem\">PERSON-SALUTATION</span>\n",
       "</mark>\n",
       " Letter, to \n",
       "<mark class=\"entity\" style=\"background: #ddd; padding: 0.45em 0.6em; margin: 0 0.25em; line-height: 1; border-radius: 0.35em;\">\n",
       "    her\n",
       "    <span style=\"font-size: 0.8em; font-weight: bold; line-height: 1; border-radius: 0.35em; vertical-align: middle; margin-left: 0.5rem\">REF_FEMALE</span>\n",
       "</mark>\n",
       " \n",
       "<mark class=\"entity\" style=\"background: #7aecec; padding: 0.45em 0.6em; margin: 0 0.25em; line-height: 1; border-radius: 0.35em;\">\n",
       "    Nephew\n",
       "    <span style=\"font-size: 0.8em; font-weight: bold; line-height: 1; border-radius: 0.35em; vertical-align: middle; margin-left: 0.5rem\">ORG</span>\n",
       "</mark>\n",
       ", and having some small acquaintance with the \n",
       "<mark class=\"entity\" style=\"background: #c887fb; padding: 0.45em 0.6em; margin: 0 0.25em; line-height: 1; border-radius: 0.35em;\">\n",
       "    French\n",
       "    <span style=\"font-size: 0.8em; font-weight: bold; line-height: 1; border-radius: 0.35em; vertical-align: middle; margin-left: 0.5rem\">NORP</span>\n",
       "</mark>\n",
       " tongue, have attempted a translation; of it, which I here send, for your perusal and correction.</br>I am sensible that I am but ill qualified for such an undertaking, it being a maxim with me that no one can translate an author well, who cannot write like the original, and I find by Experience that \n",
       "<mark class=\"entity\" style=\"background: #e4e7d2; padding: 0.45em 0.6em; margin: 0 0.25em; line-height: 1; border-radius: 0.35em;\">\n",
       "    tis\n",
       "    <span style=\"font-size: 0.8em; font-weight: bold; line-height: 1; border-radius: 0.35em; vertical-align: middle; margin-left: 0.5rem\">CARDINAL</span>\n",
       "</mark>\n",
       " more difficult to translate well, than to write well.</br>You will see that I have endeavourd to translate the letter as literally as I could, without treading on the heels of my Lady abbess, Esteeming literal translations to be the best as well as truest. Should be glad if you would favor me with your translation, for you, being taught the \n",
       "<mark class=\"entity\" style=\"background: #ff8197; padding: 0.45em 0.6em; margin: 0 0.25em; line-height: 1; border-radius: 0.35em;\">\n",
       "    French\n",
       "    <span style=\"font-size: 0.8em; font-weight: bold; line-height: 1; border-radius: 0.35em; vertical-align: middle; margin-left: 0.5rem\">LANGUAGE</span>\n",
       "</mark>\n",
       " language by \n",
       "<mark class=\"entity\" style=\"background: #e4e7d2; padding: 0.45em 0.6em; margin: 0 0.25em; line-height: 1; border-radius: 0.35em;\">\n",
       "    one\n",
       "    <span style=\"font-size: 0.8em; font-weight: bold; line-height: 1; border-radius: 0.35em; vertical-align: middle; margin-left: 0.5rem\">CARDINAL</span>\n",
       "</mark>\n",
       " of the greatest \n",
       "<mark class=\"entity\" style=\"background: #ddd; padding: 0.45em 0.6em; margin: 0 0.25em; line-height: 1; border-radius: 0.35em;\">\n",
       "    masters\n",
       "    <span style=\"font-size: 0.8em; font-weight: bold; line-height: 1; border-radius: 0.35em; vertical-align: middle; margin-left: 0.5rem\">REF_MALE</span>\n",
       "</mark>\n",
       ", I make no doubt but that your performance shines in all the beauty and perfection of \n",
       "<mark class=\"entity\" style=\"background: #ff9561; padding: 0.45em 0.6em; margin: 0 0.25em; line-height: 1; border-radius: 0.35em;\">\n",
       "    Language\n",
       "    <span style=\"font-size: 0.8em; font-weight: bold; line-height: 1; border-radius: 0.35em; vertical-align: middle; margin-left: 0.5rem\">LOC</span>\n",
       "</mark>\n",
       ".</br>That you may daily grow in virtue and useful \n",
       "<mark class=\"entity\" style=\"background: #7aecec; padding: 0.45em 0.6em; margin: 0 0.25em; line-height: 1; border-radius: 0.35em;\">\n",
       "    Learning\n",
       "    <span style=\"font-size: 0.8em; font-weight: bold; line-height: 1; border-radius: 0.35em; vertical-align: middle; margin-left: 0.5rem\">ORG</span>\n",
       "</mark>\n",
       ", and be a bright Orniment in Church or \n",
       "<mark class=\"entity\" style=\"background: #7aecec; padding: 0.45em 0.6em; margin: 0 0.25em; line-height: 1; border-radius: 0.35em;\">\n",
       "    State\n",
       "    <span style=\"font-size: 0.8em; font-weight: bold; line-height: 1; border-radius: 0.35em; vertical-align: middle; margin-left: 0.5rem\">ORG</span>\n",
       "</mark>\n",
       " is the sincere wish of \n",
       "<mark class=\"entity\" style=\"background: #f0d0ff; padding: 0.45em 0.6em; margin: 0 0.25em; line-height: 1; border-radius: 0.35em;\">\n",
       "    Dear Cousin Your affectionat\n",
       "    <span style=\"font-size: 0.8em; font-weight: bold; line-height: 1; border-radius: 0.35em; vertical-align: middle; margin-left: 0.5rem\">WORK_OF_ART</span>\n",
       "</mark>\n",
       " Friend,</br>Nabby \n",
       "<mark class=\"entity\" style=\"background: #ddd; padding: 0.45em 0.6em; margin: 0 0.25em; line-height: 1; border-radius: 0.35em;\">\n",
       "    Smith\n",
       "    <span style=\"font-size: 0.8em; font-weight: bold; line-height: 1; border-radius: 0.35em; vertical-align: middle; margin-left: 0.5rem\">PERSON-RULER</span>\n",
       "</mark>\n",
       "</br>N B. How the Lady abbess came to subscribe herself \n",
       "<mark class=\"entity\" style=\"background: #7aecec; padding: 0.45em 0.6em; margin: 0 0.25em; line-height: 1; border-radius: 0.35em;\">\n",
       "    Serviteur\n",
       "    <span style=\"font-size: 0.8em; font-weight: bold; line-height: 1; border-radius: 0.35em; vertical-align: middle; margin-left: 0.5rem\">ORG</span>\n",
       "</mark>\n",
       ", which you know is of the masculine \n",
       "<mark class=\"entity\" style=\"background: #7aecec; padding: 0.45em 0.6em; margin: 0 0.25em; line-height: 1; border-radius: 0.35em;\">\n",
       "    Gender\n",
       "    <span style=\"font-size: 0.8em; font-weight: bold; line-height: 1; border-radius: 0.35em; vertical-align: middle; margin-left: 0.5rem\">ORG</span>\n",
       "</mark>\n",
       " I cannot devise unless like all other \n",
       "<mark class=\"entity\" style=\"background: #ddd; padding: 0.45em 0.6em; margin: 0 0.25em; line-height: 1; border-radius: 0.35em;\">\n",
       "    Ladies\n",
       "    <span style=\"font-size: 0.8em; font-weight: bold; line-height: 1; border-radius: 0.35em; vertical-align: middle; margin-left: 0.5rem\">REF_FEMALE</span>\n",
       "</mark>\n",
       " in a convent, \n",
       "<mark class=\"entity\" style=\"background: #ddd; padding: 0.45em 0.6em; margin: 0 0.25em; line-height: 1; border-radius: 0.35em;\">\n",
       "    she\n",
       "    <span style=\"font-size: 0.8em; font-weight: bold; line-height: 1; border-radius: 0.35em; vertical-align: middle; margin-left: 0.5rem\">REF_FEMALE</span>\n",
       "</mark>\n",
       " chose to make use of the Masculine \n",
       "<mark class=\"entity\" style=\"background: #7aecec; padding: 0.45em 0.6em; margin: 0 0.25em; line-height: 1; border-radius: 0.35em;\">\n",
       "    Gender\n",
       "    <span style=\"font-size: 0.8em; font-weight: bold; line-height: 1; border-radius: 0.35em; vertical-align: middle; margin-left: 0.5rem\">ORG</span>\n",
       "</mark>\n",
       ", rather than the \n",
       "<mark class=\"entity\" style=\"background: #7aecec; padding: 0.45em 0.6em; margin: 0 0.25em; line-height: 1; border-radius: 0.35em;\">\n",
       "    Feminine\n",
       "    <span style=\"font-size: 0.8em; font-weight: bold; line-height: 1; border-radius: 0.35em; vertical-align: middle; margin-left: 0.5rem\">ORG</span>\n",
       "</mark>\n",
       ".</br>Excuse the wri[ting] for \n",
       "<mark class=\"entity\" style=\"background: #e4e7d2; padding: 0.45em 0.6em; margin: 0 0.25em; line-height: 1; border-radius: 0.35em;\">\n",
       "    tis\n",
       "    <span style=\"font-size: 0.8em; font-weight: bold; line-height: 1; border-radius: 0.35em; vertical-align: middle; margin-left: 0.5rem\">CARDINAL</span>\n",
       "</mark>\n",
       " late at \n",
       "<mark class=\"entity\" style=\"background: #bfe1d9; padding: 0.45em 0.6em; margin: 0 0.25em; line-height: 1; border-radius: 0.35em;\">\n",
       "    night\n",
       "    <span style=\"font-size: 0.8em; font-weight: bold; line-height: 1; border-radius: 0.35em; vertical-align: middle; margin-left: 0.5rem\">TIME</span>\n",
       "</mark>\n",
       ".</div></span>"
      ],
      "text/plain": [
       "<IPython.core.display.HTML object>"
      ]
     },
     "metadata": {},
     "output_type": "display_data"
    }
   ],
   "source": [
    "doc = main_nlp(texts[0]['text'])\n",
    "displacy.render(doc, style=\"ent\")"
   ]
  },
  {
   "cell_type": "code",
   "execution_count": null,
   "id": "7bfa965d-d9e0-4936-a42d-0d824408af76",
   "metadata": {},
   "outputs": [],
   "source": []
  }
 ],
 "metadata": {
  "kernelspec": {
   "display_name": "Python 3 (ipykernel)",
   "language": "python",
   "name": "python3"
  },
  "language_info": {
   "codemirror_mode": {
    "name": "ipython",
    "version": 3
   },
   "file_extension": ".py",
   "mimetype": "text/x-python",
   "name": "python",
   "nbconvert_exporter": "python",
   "pygments_lexer": "ipython3",
   "version": "3.8.5"
  },
  "toc": {
   "base_numbering": 1,
   "nav_menu": {},
   "number_sections": true,
   "sideBar": true,
   "skip_h1_title": false,
   "title_cell": "Table of Contents",
   "title_sidebar": "Contents",
   "toc_cell": false,
   "toc_position": {},
   "toc_section_display": true,
   "toc_window_display": true
  }
 },
 "nbformat": 4,
 "nbformat_minor": 5
}
